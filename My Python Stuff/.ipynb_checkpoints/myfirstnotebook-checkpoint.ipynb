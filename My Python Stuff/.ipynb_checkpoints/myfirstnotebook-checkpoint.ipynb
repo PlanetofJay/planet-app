{
 "cells": [
  {
   "cell_type": "code",
   "execution_count": 1,
   "id": "2911f34e",
   "metadata": {},
   "outputs": [
    {
     "name": "stdout",
     "output_type": "stream",
     "text": [
      "hello\n"
     ]
    }
   ],
   "source": [
    "print('hello')"
   ]
  },
  {
   "cell_type": "code",
   "execution_count": 2,
   "id": "4e323680",
   "metadata": {},
   "outputs": [
    {
     "name": "stdout",
     "output_type": "stream",
     "text": [
      "new\n"
     ]
    }
   ],
   "source": [
    "print('new')"
   ]
  },
  {
   "cell_type": "code",
   "execution_count": 3,
   "id": "a6e5cf87",
   "metadata": {
    "scrolled": true
   },
   "outputs": [
    {
     "name": "stdout",
     "output_type": "stream",
     "text": [
      "test\n"
     ]
    }
   ],
   "source": [
    "print('test')"
   ]
  },
  {
   "cell_type": "markdown",
   "id": "f4b0f659",
   "metadata": {},
   "source": [
    "here you can write notes"
   ]
  },
  {
   "cell_type": "code",
   "execution_count": 4,
   "id": "7ec4f18b",
   "metadata": {},
   "outputs": [
    {
     "data": {
      "text/plain": [
       "1.5"
      ]
     },
     "execution_count": 4,
     "metadata": {},
     "output_type": "execute_result"
    }
   ],
   "source": [
    "3/2"
   ]
  },
  {
   "cell_type": "markdown",
   "id": "82aa9499",
   "metadata": {},
   "source": [
    "<h2>Modulo or \"Mod\" Operator"
   ]
  },
  {
   "cell_type": "code",
   "execution_count": 5,
   "id": "16a1e3b0",
   "metadata": {},
   "outputs": [
    {
     "data": {
      "text/plain": [
       "1.75"
      ]
     },
     "execution_count": 5,
     "metadata": {},
     "output_type": "execute_result"
    }
   ],
   "source": [
    "7 / 4"
   ]
  },
  {
   "cell_type": "code",
   "execution_count": 6,
   "id": "71e44591",
   "metadata": {},
   "outputs": [
    {
     "data": {
      "text/plain": [
       "3"
      ]
     },
     "execution_count": 6,
     "metadata": {},
     "output_type": "execute_result"
    }
   ],
   "source": [
    "7 % 4"
   ]
  },
  {
   "cell_type": "code",
   "execution_count": 7,
   "id": "d27430a6",
   "metadata": {},
   "outputs": [
    {
     "data": {
      "text/plain": [
       "0"
      ]
     },
     "execution_count": 7,
     "metadata": {},
     "output_type": "execute_result"
    }
   ],
   "source": [
    "50 % 5"
   ]
  },
  {
   "cell_type": "code",
   "execution_count": 8,
   "id": "423ab55f",
   "metadata": {},
   "outputs": [
    {
     "data": {
      "text/plain": [
       "8"
      ]
     },
     "execution_count": 8,
     "metadata": {},
     "output_type": "execute_result"
    }
   ],
   "source": [
    "2 ** 3"
   ]
  },
  {
   "cell_type": "code",
   "execution_count": 9,
   "id": "a30047b1",
   "metadata": {},
   "outputs": [
    {
     "data": {
      "text/plain": [
       "156"
      ]
     },
     "execution_count": 9,
     "metadata": {},
     "output_type": "execute_result"
    }
   ],
   "source": [
    "(2 + 10) * (10 + 3)"
   ]
  },
  {
   "cell_type": "markdown",
   "id": "25878b31",
   "metadata": {},
   "source": [
    "<h2>Variable Assignments"
   ]
  },
  {
   "cell_type": "code",
   "execution_count": 10,
   "id": "ff4d9ed3",
   "metadata": {},
   "outputs": [],
   "source": [
    "a = 5"
   ]
  },
  {
   "cell_type": "code",
   "execution_count": 11,
   "id": "72595b32",
   "metadata": {},
   "outputs": [
    {
     "data": {
      "text/plain": [
       "5"
      ]
     },
     "execution_count": 11,
     "metadata": {},
     "output_type": "execute_result"
    }
   ],
   "source": [
    "a"
   ]
  },
  {
   "cell_type": "code",
   "execution_count": 12,
   "id": "e75a5d3b",
   "metadata": {},
   "outputs": [],
   "source": [
    "a = 12"
   ]
  },
  {
   "cell_type": "code",
   "execution_count": 13,
   "id": "2a65f805",
   "metadata": {},
   "outputs": [
    {
     "data": {
      "text/plain": [
       "12"
      ]
     },
     "execution_count": 13,
     "metadata": {},
     "output_type": "execute_result"
    }
   ],
   "source": [
    "a"
   ]
  },
  {
   "cell_type": "code",
   "execution_count": 14,
   "id": "d7251c77",
   "metadata": {},
   "outputs": [
    {
     "data": {
      "text/plain": [
       "24"
      ]
     },
     "execution_count": 14,
     "metadata": {},
     "output_type": "execute_result"
    }
   ],
   "source": [
    "a + a"
   ]
  },
  {
   "cell_type": "code",
   "execution_count": 15,
   "id": "c1c4a979",
   "metadata": {},
   "outputs": [],
   "source": [
    "a = a + a"
   ]
  },
  {
   "cell_type": "code",
   "execution_count": 16,
   "id": "5a7696eb",
   "metadata": {},
   "outputs": [
    {
     "data": {
      "text/plain": [
       "24"
      ]
     },
     "execution_count": 16,
     "metadata": {},
     "output_type": "execute_result"
    }
   ],
   "source": [
    "a"
   ]
  },
  {
   "cell_type": "code",
   "execution_count": 17,
   "id": "c9fb3649",
   "metadata": {},
   "outputs": [
    {
     "data": {
      "text/plain": [
       "int"
      ]
     },
     "execution_count": 17,
     "metadata": {},
     "output_type": "execute_result"
    }
   ],
   "source": [
    "type(a)"
   ]
  },
  {
   "cell_type": "code",
   "execution_count": 18,
   "id": "7bdb6882",
   "metadata": {},
   "outputs": [],
   "source": [
    "a = 30.1"
   ]
  },
  {
   "cell_type": "code",
   "execution_count": 19,
   "id": "ed199de3",
   "metadata": {},
   "outputs": [
    {
     "data": {
      "text/plain": [
       "float"
      ]
     },
     "execution_count": 19,
     "metadata": {},
     "output_type": "execute_result"
    }
   ],
   "source": [
    "type(a)"
   ]
  },
  {
   "cell_type": "code",
   "execution_count": 20,
   "id": "355ec3d2",
   "metadata": {},
   "outputs": [],
   "source": [
    "my_income = 100\n",
    "\n",
    "tax_rate = 0.1\n",
    "\n",
    "my_taxes = my_income * tax_rate"
   ]
  },
  {
   "cell_type": "code",
   "execution_count": 21,
   "id": "2dc3226f",
   "metadata": {},
   "outputs": [
    {
     "data": {
      "text/plain": [
       "10.0"
      ]
     },
     "execution_count": 21,
     "metadata": {},
     "output_type": "execute_result"
    }
   ],
   "source": [
    "my_taxes"
   ]
  },
  {
   "cell_type": "markdown",
   "id": "71486f52",
   "metadata": {},
   "source": [
    "<h2>Test Strings"
   ]
  },
  {
   "cell_type": "code",
   "execution_count": 22,
   "id": "3fb31d86",
   "metadata": {},
   "outputs": [
    {
     "data": {
      "text/plain": [
       "'hello'"
      ]
     },
     "execution_count": 22,
     "metadata": {},
     "output_type": "execute_result"
    }
   ],
   "source": [
    "'hello'"
   ]
  },
  {
   "cell_type": "code",
   "execution_count": 23,
   "id": "226c2f5d",
   "metadata": {},
   "outputs": [
    {
     "data": {
      "text/plain": [
       "'world'"
      ]
     },
     "execution_count": 23,
     "metadata": {},
     "output_type": "execute_result"
    }
   ],
   "source": [
    "\"world\""
   ]
  },
  {
   "cell_type": "code",
   "execution_count": 24,
   "id": "ec423ed4",
   "metadata": {},
   "outputs": [
    {
     "data": {
      "text/plain": [
       "\"We're in the planet\""
      ]
     },
     "execution_count": 24,
     "metadata": {},
     "output_type": "execute_result"
    }
   ],
   "source": [
    "\"We're in the planet\""
   ]
  },
  {
   "cell_type": "code",
   "execution_count": 25,
   "id": "8de1288b",
   "metadata": {},
   "outputs": [
    {
     "name": "stdout",
     "output_type": "stream",
     "text": [
      "hello\n"
     ]
    }
   ],
   "source": [
    "print(\"hello\")"
   ]
  },
  {
   "cell_type": "code",
   "execution_count": 26,
   "id": "614442b5",
   "metadata": {},
   "outputs": [
    {
     "name": "stdout",
     "output_type": "stream",
     "text": [
      "hello \tworld\n"
     ]
    }
   ],
   "source": [
    "print('hello \\tworld')"
   ]
  },
  {
   "cell_type": "code",
   "execution_count": 27,
   "id": "dca4a663",
   "metadata": {},
   "outputs": [
    {
     "data": {
      "text/plain": [
       "19"
      ]
     },
     "execution_count": 27,
     "metadata": {},
     "output_type": "execute_result"
    }
   ],
   "source": [
    "len('Here is Jaejin Lee.')"
   ]
  },
  {
   "cell_type": "code",
   "execution_count": null,
   "id": "175be0be",
   "metadata": {},
   "outputs": [],
   "source": []
  },
  {
   "cell_type": "code",
   "execution_count": null,
   "id": "c14ac0f6",
   "metadata": {},
   "outputs": [],
   "source": []
  },
  {
   "cell_type": "code",
   "execution_count": null,
   "id": "a754184b",
   "metadata": {},
   "outputs": [],
   "source": []
  },
  {
   "cell_type": "code",
   "execution_count": null,
   "id": "596a3a4f",
   "metadata": {},
   "outputs": [],
   "source": []
  },
  {
   "cell_type": "code",
   "execution_count": null,
   "id": "945dc50c",
   "metadata": {},
   "outputs": [],
   "source": []
  },
  {
   "cell_type": "code",
   "execution_count": null,
   "id": "cbaa28f1",
   "metadata": {},
   "outputs": [],
   "source": []
  },
  {
   "cell_type": "code",
   "execution_count": 28,
   "id": "51369803",
   "metadata": {},
   "outputs": [],
   "source": [
    "planet = ['Jay', 100, 29.03]"
   ]
  },
  {
   "cell_type": "code",
   "execution_count": 29,
   "id": "5a6883d7",
   "metadata": {},
   "outputs": [
    {
     "data": {
      "text/plain": [
       "100"
      ]
     },
     "execution_count": 29,
     "metadata": {},
     "output_type": "execute_result"
    }
   ],
   "source": [
    "planet[1]"
   ]
  },
  {
   "cell_type": "code",
   "execution_count": 30,
   "id": "ad037261",
   "metadata": {},
   "outputs": [],
   "source": [
    "planet[1] = [100, 123]"
   ]
  },
  {
   "cell_type": "code",
   "execution_count": 31,
   "id": "3dfff879",
   "metadata": {},
   "outputs": [
    {
     "data": {
      "text/plain": [
       "['Jay', [100, 123], 29.03]"
      ]
     },
     "execution_count": 31,
     "metadata": {},
     "output_type": "execute_result"
    }
   ],
   "source": [
    "planet"
   ]
  },
  {
   "cell_type": "code",
   "execution_count": 32,
   "id": "eab2daf0",
   "metadata": {},
   "outputs": [
    {
     "data": {
      "text/plain": [
       "29.03"
      ]
     },
     "execution_count": 32,
     "metadata": {},
     "output_type": "execute_result"
    }
   ],
   "source": [
    "planet.pop()"
   ]
  },
  {
   "cell_type": "code",
   "execution_count": 33,
   "id": "98d2797c",
   "metadata": {},
   "outputs": [
    {
     "data": {
      "text/plain": [
       "['Jay', [100, 123]]"
      ]
     },
     "execution_count": 33,
     "metadata": {},
     "output_type": "execute_result"
    }
   ],
   "source": [
    "planet"
   ]
  },
  {
   "cell_type": "code",
   "execution_count": null,
   "id": "56599d9e",
   "metadata": {},
   "outputs": [],
   "source": []
  },
  {
   "cell_type": "code",
   "execution_count": null,
   "id": "8e1744d6",
   "metadata": {},
   "outputs": [],
   "source": []
  },
  {
   "cell_type": "code",
   "execution_count": null,
   "id": "6004cdb7",
   "metadata": {},
   "outputs": [],
   "source": []
  },
  {
   "cell_type": "code",
   "execution_count": null,
   "id": "69db09c6",
   "metadata": {},
   "outputs": [],
   "source": []
  },
  {
   "cell_type": "markdown",
   "id": "8bbdef20",
   "metadata": {},
   "source": [
    "<h2>Journal</h2>"
   ]
  },
  {
   "cell_type": "code",
   "execution_count": 34,
   "id": "f298ed3b",
   "metadata": {},
   "outputs": [],
   "source": [
    "planet[1][0:].append('Jay')"
   ]
  },
  {
   "cell_type": "code",
   "execution_count": 35,
   "id": "88a50661",
   "metadata": {},
   "outputs": [],
   "source": [
    "planet.append('12315236')"
   ]
  },
  {
   "cell_type": "code",
   "execution_count": 36,
   "id": "ec046c49",
   "metadata": {},
   "outputs": [
    {
     "data": {
      "text/plain": [
       "['Jay', [100, 123], '12315236']"
      ]
     },
     "execution_count": 36,
     "metadata": {},
     "output_type": "execute_result"
    }
   ],
   "source": [
    "planet"
   ]
  },
  {
   "cell_type": "code",
   "execution_count": 37,
   "id": "1e4796ce",
   "metadata": {},
   "outputs": [
    {
     "data": {
      "text/plain": [
       "[100, 123]"
      ]
     },
     "execution_count": 37,
     "metadata": {},
     "output_type": "execute_result"
    }
   ],
   "source": [
    "planet[1][0:]"
   ]
  },
  {
   "cell_type": "code",
   "execution_count": 38,
   "id": "eb73be9e",
   "metadata": {},
   "outputs": [
    {
     "ename": "IndexError",
     "evalue": "list index out of range",
     "output_type": "error",
     "traceback": [
      "\u001b[0;31m---------------------------------------------------------------------------\u001b[0m",
      "\u001b[0;31mIndexError\u001b[0m                                Traceback (most recent call last)",
      "Cell \u001b[0;32mIn[38], line 1\u001b[0m\n\u001b[0;32m----> 1\u001b[0m \u001b[43mplanet\u001b[49m\u001b[43m[\u001b[49m\u001b[38;5;241;43m3\u001b[39;49m\u001b[43m]\u001b[49m[\u001b[38;5;241m16\u001b[39m:\u001b[38;5;241m19\u001b[39m:\u001b[38;5;241m1\u001b[39m][::\u001b[38;5;241m1\u001b[39m]\u001b[38;5;241m.\u001b[39mupper()\u001b[38;5;241m.\u001b[39msplit(\u001b[38;5;124m'\u001b[39m\u001b[38;5;124mA\u001b[39m\u001b[38;5;124m'\u001b[39m)\n",
      "\u001b[0;31mIndexError\u001b[0m: list index out of range"
     ]
    }
   ],
   "source": [
    "planet[3][16:19:1][::1].upper().split('A')"
   ]
  },
  {
   "cell_type": "code",
   "execution_count": null,
   "id": "929f70d4",
   "metadata": {},
   "outputs": [],
   "source": [
    "planet = \"JAY\""
   ]
  },
  {
   "cell_type": "code",
   "execution_count": null,
   "id": "459cd246",
   "metadata": {},
   "outputs": [],
   "source": [
    "print('Who are you? %s.' %(planet))\n",
    "print('Say it again? %r.' %(planet))\n",
    "print(\"How's your tall? %s.\" %(178.58))\n",
    "print(\"What's the decimal tho? %d, shame on you.\" %(178.58))\n",
    "print(\"Pardon? %40.2f, bye~~\" %(178.58))"
   ]
  },
  {
   "cell_type": "code",
   "execution_count": null,
   "id": "b47c73d2",
   "metadata": {},
   "outputs": [],
   "source": [
    "planet[3] = planet[3] + \", I can't go to sleep\""
   ]
  },
  {
   "cell_type": "code",
   "execution_count": null,
   "id": "9c765146",
   "metadata": {},
   "outputs": [],
   "source": [
    "planet"
   ]
  },
  {
   "cell_type": "code",
   "execution_count": null,
   "id": "28efa45f",
   "metadata": {},
   "outputs": [],
   "source": [
    "case = 'j'"
   ]
  },
  {
   "cell_type": "code",
   "execution_count": null,
   "id": "e55138d3",
   "metadata": {},
   "outputs": [],
   "source": [
    "case * 6"
   ]
  },
  {
   "cell_type": "code",
   "execution_count": null,
   "id": "b1122898",
   "metadata": {},
   "outputs": [],
   "source": [
    "jay_dict={'Jay':123, 123:2324, 12.45:'value'}"
   ]
  },
  {
   "cell_type": "code",
   "execution_count": null,
   "id": "608b4a15",
   "metadata": {},
   "outputs": [],
   "source": [
    "jay_dict['Jay'] = 'Jaejin'"
   ]
  },
  {
   "cell_type": "code",
   "execution_count": null,
   "id": "b9ac29f4",
   "metadata": {},
   "outputs": [],
   "source": [
    "jay_dict[12.45] = {'insideKey':123}"
   ]
  },
  {
   "cell_type": "code",
   "execution_count": null,
   "id": "b1f970df",
   "metadata": {},
   "outputs": [],
   "source": [
    "jay_dict"
   ]
  },
  {
   "cell_type": "code",
   "execution_count": null,
   "id": "93413aa7",
   "metadata": {},
   "outputs": [],
   "source": [
    "jay_dict[12.45]['insideKey']"
   ]
  },
  {
   "cell_type": "code",
   "execution_count": null,
   "id": "628935b4",
   "metadata": {},
   "outputs": [],
   "source": [
    "jay_dict.items()"
   ]
  },
  {
   "cell_type": "code",
   "execution_count": null,
   "id": "c86f257c",
   "metadata": {},
   "outputs": [],
   "source": [
    "jay = (1, 'a', 3.14)"
   ]
  },
  {
   "cell_type": "code",
   "execution_count": null,
   "id": "4d96e707",
   "metadata": {},
   "outputs": [],
   "source": [
    "type(jay)"
   ]
  },
  {
   "cell_type": "code",
   "execution_count": null,
   "id": "47bcee85",
   "metadata": {},
   "outputs": [],
   "source": [
    "jay[2:]"
   ]
  },
  {
   "cell_type": "code",
   "execution_count": null,
   "id": "f787f368",
   "metadata": {},
   "outputs": [],
   "source": [
    "jay.index('a')"
   ]
  },
  {
   "cell_type": "code",
   "execution_count": null,
   "id": "d147ce16",
   "metadata": {},
   "outputs": [],
   "source": [
    "type(jay)"
   ]
  },
  {
   "cell_type": "code",
   "execution_count": null,
   "id": "3bf917c0",
   "metadata": {},
   "outputs": [],
   "source": [
    "sets=['a','z','t',6,2,9,1,2,2,6]"
   ]
  },
  {
   "cell_type": "code",
   "execution_count": null,
   "id": "ebc1cc1a",
   "metadata": {},
   "outputs": [],
   "source": [
    "set(sets)"
   ]
  },
  {
   "cell_type": "code",
   "execution_count": null,
   "id": "d7aa3301",
   "metadata": {},
   "outputs": [],
   "source": [
    "jay = [123, 96, 12]"
   ]
  },
  {
   "cell_type": "code",
   "execution_count": null,
   "id": "d6a95ad6",
   "metadata": {},
   "outputs": [],
   "source": [
    "jay"
   ]
  },
  {
   "cell_type": "code",
   "execution_count": null,
   "id": "5113ab70",
   "metadata": {},
   "outputs": [],
   "source": [
    "'1' * 1 <= 1 * '0' * (1 * 1)"
   ]
  },
  {
   "cell_type": "code",
   "execution_count": null,
   "id": "0d86cd1b",
   "metadata": {},
   "outputs": [],
   "source": [
    "%%writefile planet.txt\n",
    "This is the first note of mine\n",
    "TEST\n",
    "test"
   ]
  },
  {
   "cell_type": "code",
   "execution_count": null,
   "id": "4ab5475b",
   "metadata": {},
   "outputs": [],
   "source": [
    "pwd"
   ]
  },
  {
   "cell_type": "code",
   "execution_count": null,
   "id": "3fb8cd30",
   "metadata": {},
   "outputs": [],
   "source": [
    "myfile = open('planet.txt')"
   ]
  },
  {
   "cell_type": "code",
   "execution_count": null,
   "id": "a203f571",
   "metadata": {},
   "outputs": [],
   "source": [
    "myfile.readlines()"
   ]
  },
  {
   "cell_type": "code",
   "execution_count": null,
   "id": "8111cab7",
   "metadata": {},
   "outputs": [],
   "source": [
    "myfile.seek(0)"
   ]
  },
  {
   "cell_type": "code",
   "execution_count": null,
   "id": "4582b218",
   "metadata": {},
   "outputs": [],
   "source": [
    "with open('planet.txt', mode='r') as my_app:\n",
    "    contents = my_app.read()"
   ]
  },
  {
   "cell_type": "code",
   "execution_count": null,
   "id": "22b8a805",
   "metadata": {},
   "outputs": [],
   "source": [
    "contents"
   ]
  },
  {
   "cell_type": "code",
   "execution_count": null,
   "id": "95b2e11d",
   "metadata": {},
   "outputs": [],
   "source": [
    "with open('planet.txt', mode='r') as f:\n",
    "    print(f.read())"
   ]
  },
  {
   "cell_type": "code",
   "execution_count": null,
   "id": "c1b6ed6f",
   "metadata": {},
   "outputs": [],
   "source": [
    "with open('planet.txt', mode='a') as f:\n",
    "    f.write('TEST is done')"
   ]
  },
  {
   "cell_type": "code",
   "execution_count": null,
   "id": "ac60f6d2",
   "metadata": {},
   "outputs": [],
   "source": [
    "with open('planet.txt', mode='r') as f:\n",
    "    print(f.read())"
   ]
  },
  {
   "cell_type": "code",
   "execution_count": null,
   "id": "52b2c80b",
   "metadata": {},
   "outputs": [],
   "source": [
    "with open('test.txt', mode='w') as f:\n",
    "    f.write('test test.txt')"
   ]
  },
  {
   "cell_type": "code",
   "execution_count": null,
   "id": "ba8f6ac1",
   "metadata": {},
   "outputs": [],
   "source": [
    "with open('test.txt', mode='r') as f:\n",
    "    print(f.read())"
   ]
  },
  {
   "cell_type": "code",
   "execution_count": null,
   "id": "73babc62",
   "metadata": {},
   "outputs": [],
   "source": []
  },
  {
   "cell_type": "code",
   "execution_count": null,
   "id": "4c8e47e1",
   "metadata": {},
   "outputs": [],
   "source": [
    "a = 12\n",
    "b = a - 4 + 2\n",
    "not a >= b and a != b or a - 3 < b"
   ]
  },
  {
   "cell_type": "code",
   "execution_count": null,
   "id": "566ebd84",
   "metadata": {},
   "outputs": [],
   "source": []
  },
  {
   "cell_type": "code",
   "execution_count": null,
   "id": "78b5937f",
   "metadata": {},
   "outputs": [],
   "source": [
    "jay = ['Jay', 123, 'Jaejin']\n",
    "\n",
    "if jay == 'jay':\n",
    "    print(\"It's true!\")\n",
    "elif jay[1] == 123 and jay[2] == 'Jaejin':\n",
    "    print(\"You got it\")\n",
    "else:\n",
    "    print('Something is wrong')"
   ]
  },
  {
   "cell_type": "code",
   "execution_count": null,
   "id": "148ee814",
   "metadata": {},
   "outputs": [],
   "source": []
  },
  {
   "cell_type": "markdown",
   "id": "ab225963",
   "metadata": {},
   "source": [
    "<i>start studying about control and flow."
   ]
  },
  {
   "cell_type": "code",
   "execution_count": 2,
   "id": "eb74444b",
   "metadata": {},
   "outputs": [
    {
     "name": "stdout",
     "output_type": "stream",
     "text": [
      "1\n",
      "2\n",
      "3\n",
      "4\n",
      "5\n",
      "6\n",
      "7\n",
      "8\n",
      "9\n",
      "10\n"
     ]
    }
   ],
   "source": [
    "my_iterable = [1,2,3,4,5,6,7,8,9,10]\n",
    "for jay_list in my_iterable:\n",
    "    print(jay_list)"
   ]
  },
  {
   "cell_type": "code",
   "execution_count": 16,
   "id": "5f797df3",
   "metadata": {},
   "outputs": [],
   "source": [
    "my_iterable = [1,2,3,4,5,6,7,8,9,10]"
   ]
  },
  {
   "cell_type": "code",
   "execution_count": 17,
   "id": "d5b9a9b0",
   "metadata": {},
   "outputs": [
    {
     "name": "stdout",
     "output_type": "stream",
     "text": [
      "jay\n",
      "jay\n",
      "jay\n",
      "jay\n",
      "jay\n",
      "jay\n",
      "jay\n",
      "jay\n",
      "jay\n",
      "jay\n"
     ]
    }
   ],
   "source": [
    "for i in my_iterable:\n",
    "    print('jay')"
   ]
  },
  {
   "cell_type": "code",
   "execution_count": 23,
   "id": "8fba8e06",
   "metadata": {},
   "outputs": [
    {
     "name": "stdout",
     "output_type": "stream",
     "text": [
      "Odd Number: 1\n",
      "2\n",
      "Odd Number: 3\n",
      "4\n",
      "Odd Number: 5\n",
      "6\n",
      "Odd Number: 7\n",
      "8\n",
      "Odd Number: 9\n",
      "10\n"
     ]
    }
   ],
   "source": [
    "for num in my_iterable:\n",
    "    if num % 2 == 0:\n",
    "        print(num)\n",
    "    else:\n",
    "        print(f'Odd Number: {num}')"
   ]
  },
  {
   "cell_type": "code",
   "execution_count": 2,
   "id": "d192479c",
   "metadata": {},
   "outputs": [
    {
     "name": "stdout",
     "output_type": "stream",
     "text": [
      "1\n",
      "2\n",
      "3\n"
     ]
    }
   ],
   "source": [
    "tup = (1,2,3)\n",
    "\n",
    "for _ in tup:\n",
    "    print(_)"
   ]
  },
  {
   "cell_type": "code",
   "execution_count": 15,
   "id": "593b4302",
   "metadata": {},
   "outputs": [
    {
     "data": {
      "text/plain": [
       "3"
      ]
     },
     "execution_count": 15,
     "metadata": {},
     "output_type": "execute_result"
    }
   ],
   "source": [
    "mylist = [(1,2,3),(4,5,6),(7,8,9)]\n",
    "len(mylist)"
   ]
  },
  {
   "cell_type": "code",
   "execution_count": 14,
   "id": "e7c4badd",
   "metadata": {},
   "outputs": [
    {
     "name": "stdout",
     "output_type": "stream",
     "text": [
      "1\n",
      "2\n",
      "3\n",
      "4\n",
      "5\n",
      "6\n",
      "7\n",
      "8\n"
     ]
    }
   ],
   "source": [
    "for a,b in mylist:\n",
    "    print(a)\n",
    "    print(b)"
   ]
  },
  {
   "cell_type": "code",
   "execution_count": 18,
   "id": "9c7e8921",
   "metadata": {},
   "outputs": [
    {
     "name": "stdout",
     "output_type": "stream",
     "text": [
      "1\n",
      "2\n",
      "3\n",
      "4\n",
      "5\n",
      "6\n",
      "7\n",
      "8\n",
      "9\n"
     ]
    }
   ],
   "source": [
    "for a,b,c in mylist:\n",
    "    print(a)\n",
    "    print(b)\n",
    "    print(c)"
   ]
  },
  {
   "cell_type": "code",
   "execution_count": 25,
   "id": "5e17303c",
   "metadata": {},
   "outputs": [
    {
     "name": "stdout",
     "output_type": "stream",
     "text": [
      "1\n",
      "2\n",
      "3\n"
     ]
    }
   ],
   "source": [
    "d = {'k1':1, 'k2':2, 'k3':3}\n",
    "\n",
    "for value in d.values():\n",
    "    print(value)"
   ]
  },
  {
   "cell_type": "code",
   "execution_count": 5,
   "id": "5d59a957",
   "metadata": {},
   "outputs": [
    {
     "name": "stdout",
     "output_type": "stream",
     "text": [
      "X is not less than 5\n"
     ]
    }
   ],
   "source": [
    "x = 30\n",
    "\n",
    "while x < 5:\n",
    "    print(f'The current value of x is {x}')\n",
    "    \n",
    "    x += 1\n",
    "else:\n",
    "    print('X is not less than 5')"
   ]
  },
  {
   "cell_type": "code",
   "execution_count": null,
   "id": "8337542d",
   "metadata": {},
   "outputs": [],
   "source": []
  },
  {
   "cell_type": "code",
   "execution_count": null,
   "id": "42c90a23",
   "metadata": {},
   "outputs": [],
   "source": []
  },
  {
   "cell_type": "markdown",
   "id": "32475c22",
   "metadata": {},
   "source": [
    "<li> break: Breaks out of the current closest enclosing loop. </li>\n",
    "<li> continue: Goes to the top of the closest enclosing loop. </li>\n",
    "<li> pass: Does nothing at all. </li>"
   ]
  },
  {
   "cell_type": "code",
   "execution_count": 9,
   "id": "d4832ca7",
   "metadata": {},
   "outputs": [
    {
     "name": "stdout",
     "output_type": "stream",
     "text": [
      "end of my script over here\n"
     ]
    }
   ],
   "source": [
    "x = [1,2,3]\n",
    "\n",
    "for item in x:\n",
    "    # comment\n",
    "    pass\n",
    "\n",
    "print('end of my script over here')"
   ]
  },
  {
   "cell_type": "code",
   "execution_count": 20,
   "id": "d5feb790",
   "metadata": {},
   "outputs": [
    {
     "name": "stdout",
     "output_type": "stream",
     "text": [
      "P\n",
      "l\n",
      "a\n",
      "n\n",
      "e\n"
     ]
    }
   ],
   "source": [
    "mystring = 'Planet'\n",
    "\n",
    "for letter in mystring:\n",
    "    if letter == 't':\n",
    "        continue\n",
    "    print(letter)"
   ]
  },
  {
   "cell_type": "code",
   "execution_count": 25,
   "id": "7605515e",
   "metadata": {},
   "outputs": [
    {
     "name": "stdout",
     "output_type": "stream",
     "text": [
      "0\n",
      "1\n"
     ]
    }
   ],
   "source": [
    "x = 0\n",
    "\n",
    "while x < 5:\n",
    "    if x == 2:\n",
    "        break\n",
    "    print(x)\n",
    "    x += 1"
   ]
  },
  {
   "cell_type": "code",
   "execution_count": null,
   "id": "f4d5dc64",
   "metadata": {},
   "outputs": [],
   "source": []
  },
  {
   "cell_type": "code",
   "execution_count": null,
   "id": "8b30982b",
   "metadata": {},
   "outputs": [],
   "source": []
  },
  {
   "cell_type": "code",
   "execution_count": null,
   "id": "8ac1ffd3",
   "metadata": {},
   "outputs": [],
   "source": []
  },
  {
   "cell_type": "code",
   "execution_count": 35,
   "id": "d3a66c96",
   "metadata": {},
   "outputs": [
    {
     "name": "stdout",
     "output_type": "stream",
     "text": [
      "2\n",
      "5\n",
      "8\n",
      "11\n",
      "14\n",
      "17\n"
     ]
    }
   ],
   "source": [
    "for num in range(2,20,3):\n",
    "    print(num)"
   ]
  },
  {
   "cell_type": "code",
   "execution_count": 36,
   "id": "756b00a4",
   "metadata": {},
   "outputs": [
    {
     "data": {
      "text/plain": [
       "[0, 2, 4, 6, 8, 10]"
      ]
     },
     "execution_count": 36,
     "metadata": {},
     "output_type": "execute_result"
    }
   ],
   "source": [
    "list(range(0,11,2))"
   ]
  },
  {
   "cell_type": "code",
   "execution_count": 50,
   "id": "8731b4aa",
   "metadata": {},
   "outputs": [
    {
     "name": "stdout",
     "output_type": "stream",
     "text": [
      "0\n",
      "a\n",
      "\n",
      "\n",
      "1\n",
      "b\n",
      "\n",
      "\n",
      "2\n",
      "c\n",
      "\n",
      "\n",
      "3\n",
      "d\n",
      "\n",
      "\n",
      "4\n",
      "e\n",
      "\n",
      "\n"
     ]
    }
   ],
   "source": [
    "word = 'abcde'\n",
    "\n",
    "for index,letter in enumerate(word):\n",
    "    print(index)\n",
    "    print(letter)\n",
    "    print('\\n')"
   ]
  },
  {
   "cell_type": "code",
   "execution_count": 54,
   "id": "aea2890b",
   "metadata": {},
   "outputs": [
    {
     "name": "stdout",
     "output_type": "stream",
     "text": [
      "(1, 'a', 1.23, 'abc')\n",
      "(2, 'b', 1.57, 'def')\n",
      "(3, 'c', 34.15, 'ghi')\n"
     ]
    }
   ],
   "source": [
    "mylist1 = [1,2,3,4,5,6]\n",
    "mylist2 = ['a','b','c']\n",
    "mylist3 = [1.23,1.57,34.15,74.23]\n",
    "mylist4 = ['abc','def','ghi']\n",
    "\n",
    "for item in zip(mylist1,mylist2,mylist3,mylist4):\n",
    "    print(item)"
   ]
  },
  {
   "cell_type": "code",
   "execution_count": 56,
   "id": "086d41d9",
   "metadata": {},
   "outputs": [
    {
     "data": {
      "text/plain": [
       "[(1, 'a', 1.23), (2, 'b', 1.57), (3, 'c', 34.15)]"
      ]
     },
     "execution_count": 56,
     "metadata": {},
     "output_type": "execute_result"
    }
   ],
   "source": [
    "list(zip(mylist1,mylist2,mylist3))"
   ]
  },
  {
   "cell_type": "code",
   "execution_count": 61,
   "id": "94287829",
   "metadata": {},
   "outputs": [
    {
     "data": {
      "text/plain": [
       "False"
      ]
     },
     "execution_count": 61,
     "metadata": {},
     "output_type": "execute_result"
    }
   ],
   "source": [
    "2 in [1,'2',3]"
   ]
  },
  {
   "cell_type": "code",
   "execution_count": 63,
   "id": "50977956",
   "metadata": {},
   "outputs": [
    {
     "data": {
      "text/plain": [
       "True"
      ]
     },
     "execution_count": 63,
     "metadata": {},
     "output_type": "execute_result"
    }
   ],
   "source": [
    "'a' in 'abcefg'"
   ]
  },
  {
   "cell_type": "code",
   "execution_count": 69,
   "id": "7f88ae3e",
   "metadata": {},
   "outputs": [
    {
     "data": {
      "text/plain": [
       "True"
      ]
     },
     "execution_count": 69,
     "metadata": {},
     "output_type": "execute_result"
    }
   ],
   "source": [
    "d = {'mykey': None}\n",
    "\n",
    "'mykey' in d.keys()"
   ]
  },
  {
   "cell_type": "code",
   "execution_count": null,
   "id": "0d69ee90",
   "metadata": {},
   "outputs": [],
   "source": []
  },
  {
   "cell_type": "code",
   "execution_count": 70,
   "id": "413d717a",
   "metadata": {},
   "outputs": [],
   "source": [
    "from random import shuffle"
   ]
  },
  {
   "cell_type": "code",
   "execution_count": 71,
   "id": "1e2b5df8",
   "metadata": {},
   "outputs": [],
   "source": [
    "mylist = [1,2,3,4,5,6,7,8,9,10]"
   ]
  },
  {
   "cell_type": "code",
   "execution_count": 72,
   "id": "17d58f72",
   "metadata": {},
   "outputs": [],
   "source": [
    "random_list = shuffle(mylist)"
   ]
  },
  {
   "cell_type": "code",
   "execution_count": 73,
   "id": "3be92b4e",
   "metadata": {},
   "outputs": [
    {
     "data": {
      "text/plain": [
       "NoneType"
      ]
     },
     "execution_count": 73,
     "metadata": {},
     "output_type": "execute_result"
    }
   ],
   "source": [
    "type(random_list)"
   ]
  },
  {
   "cell_type": "code",
   "execution_count": 74,
   "id": "6c12954d",
   "metadata": {},
   "outputs": [
    {
     "data": {
      "text/plain": [
       "[10, 8, 3, 6, 7, 5, 9, 4, 1, 2]"
      ]
     },
     "execution_count": 74,
     "metadata": {},
     "output_type": "execute_result"
    }
   ],
   "source": [
    "mylist"
   ]
  },
  {
   "cell_type": "code",
   "execution_count": null,
   "id": "7a1ed390",
   "metadata": {},
   "outputs": [],
   "source": []
  },
  {
   "cell_type": "code",
   "execution_count": 76,
   "id": "fe90922f",
   "metadata": {},
   "outputs": [],
   "source": [
    "from random import randint #random integer"
   ]
  },
  {
   "cell_type": "code",
   "execution_count": 78,
   "id": "7a5ac78c",
   "metadata": {},
   "outputs": [
    {
     "data": {
      "text/plain": [
       "3"
      ]
     },
     "execution_count": 78,
     "metadata": {},
     "output_type": "execute_result"
    }
   ],
   "source": [
    "randint(0,110) "
   ]
  },
  {
   "cell_type": "code",
   "execution_count": 79,
   "id": "57a77893",
   "metadata": {},
   "outputs": [],
   "source": [
    "mynum = randint(1,2123)"
   ]
  },
  {
   "cell_type": "code",
   "execution_count": 80,
   "id": "17c08dc5",
   "metadata": {},
   "outputs": [
    {
     "data": {
      "text/plain": [
       "548"
      ]
     },
     "execution_count": 80,
     "metadata": {},
     "output_type": "execute_result"
    }
   ],
   "source": [
    "mynum"
   ]
  },
  {
   "cell_type": "code",
   "execution_count": 89,
   "id": "5a54c631",
   "metadata": {},
   "outputs": [
    {
     "name": "stdout",
     "output_type": "stream",
     "text": [
      "What's your number? 7\n"
     ]
    }
   ],
   "source": [
    "result = int(input(\"What's your number? \"))"
   ]
  },
  {
   "cell_type": "code",
   "execution_count": 86,
   "id": "ca7d256e",
   "metadata": {},
   "outputs": [
    {
     "data": {
      "text/plain": [
       "str"
      ]
     },
     "execution_count": 86,
     "metadata": {},
     "output_type": "execute_result"
    }
   ],
   "source": [
    "type(result)"
   ]
  },
  {
   "cell_type": "code",
   "execution_count": 87,
   "id": "adf686ea",
   "metadata": {},
   "outputs": [
    {
     "data": {
      "text/plain": [
       "7.0"
      ]
     },
     "execution_count": 87,
     "metadata": {},
     "output_type": "execute_result"
    }
   ],
   "source": [
    "float(result)"
   ]
  },
  {
   "cell_type": "code",
   "execution_count": 88,
   "id": "07f0d442",
   "metadata": {},
   "outputs": [
    {
     "data": {
      "text/plain": [
       "7"
      ]
     },
     "execution_count": 88,
     "metadata": {},
     "output_type": "execute_result"
    }
   ],
   "source": [
    "int(result)"
   ]
  },
  {
   "cell_type": "code",
   "execution_count": 90,
   "id": "4bff229b",
   "metadata": {},
   "outputs": [
    {
     "data": {
      "text/plain": [
       "int"
      ]
     },
     "execution_count": 90,
     "metadata": {},
     "output_type": "execute_result"
    }
   ],
   "source": [
    "type(result)"
   ]
  },
  {
   "cell_type": "code",
   "execution_count": 130,
   "id": "4dc9a3a4",
   "metadata": {},
   "outputs": [],
   "source": [
    "jay = {'key': 1, 'value': 10}"
   ]
  },
  {
   "cell_type": "code",
   "execution_count": 135,
   "id": "9495d25f",
   "metadata": {},
   "outputs": [
    {
     "data": {
      "text/plain": [
       "False"
      ]
     },
     "execution_count": 135,
     "metadata": {},
     "output_type": "execute_result"
    }
   ],
   "source": [
    "'value' in jay.values()"
   ]
  },
  {
   "cell_type": "code",
   "execution_count": 91,
   "id": "a2fbfa92",
   "metadata": {},
   "outputs": [],
   "source": [
    "mystring = 'Hello'"
   ]
  },
  {
   "cell_type": "code",
   "execution_count": 92,
   "id": "7ce475d8",
   "metadata": {},
   "outputs": [],
   "source": [
    "mylist = []\n",
    "\n",
    "for letter in mystring:\n",
    "    mylist.append(letter)"
   ]
  },
  {
   "cell_type": "code",
   "execution_count": 93,
   "id": "b0c3d88b",
   "metadata": {},
   "outputs": [
    {
     "data": {
      "text/plain": [
       "['H', 'e', 'l', 'l', 'o']"
      ]
     },
     "execution_count": 93,
     "metadata": {},
     "output_type": "execute_result"
    }
   ],
   "source": [
    "mylist"
   ]
  },
  {
   "cell_type": "code",
   "execution_count": 129,
   "id": "d0ce3220",
   "metadata": {},
   "outputs": [],
   "source": [
    "mylist = []\n",
    "for letter in mystring:\n",
    "    mylist.append(letter)\n",
    "    \n",
    "mylist = [letter for letter in mystring]"
   ]
  },
  {
   "cell_type": "code",
   "execution_count": 128,
   "id": "c0116736",
   "metadata": {},
   "outputs": [
    {
     "data": {
      "text/plain": [
       "['H', 'e', 'l', 'l', 'o']"
      ]
     },
     "execution_count": 128,
     "metadata": {},
     "output_type": "execute_result"
    }
   ],
   "source": [
    "mylist"
   ]
  },
  {
   "cell_type": "code",
   "execution_count": 96,
   "id": "0f02060b",
   "metadata": {},
   "outputs": [],
   "source": [
    "mylist = [x for x in 'word']"
   ]
  },
  {
   "cell_type": "code",
   "execution_count": 97,
   "id": "db33bd25",
   "metadata": {},
   "outputs": [
    {
     "data": {
      "text/plain": [
       "['w', 'o', 'r', 'd']"
      ]
     },
     "execution_count": 97,
     "metadata": {},
     "output_type": "execute_result"
    }
   ],
   "source": [
    "mylist"
   ]
  },
  {
   "cell_type": "code",
   "execution_count": 99,
   "id": "54c68d44",
   "metadata": {},
   "outputs": [],
   "source": [
    "mylist = [element for element in 'iterable_object']"
   ]
  },
  {
   "cell_type": "code",
   "execution_count": 100,
   "id": "07a26f30",
   "metadata": {},
   "outputs": [
    {
     "data": {
      "text/plain": [
       "['i', 't', 'e', 'r', 'a', 'b', 'l', 'e', '_', 'o', 'b', 'j', 'e', 'c', 't']"
      ]
     },
     "execution_count": 100,
     "metadata": {},
     "output_type": "execute_result"
    }
   ],
   "source": [
    "mylist"
   ]
  },
  {
   "cell_type": "code",
   "execution_count": 105,
   "id": "c3aefe6f",
   "metadata": {},
   "outputs": [],
   "source": [
    "mylist = [num**2 for num in range(0,11)]"
   ]
  },
  {
   "cell_type": "code",
   "execution_count": 106,
   "id": "e58a75ba",
   "metadata": {},
   "outputs": [
    {
     "data": {
      "text/plain": [
       "[0, 1, 4, 9, 16, 25, 36, 49, 64, 81, 100]"
      ]
     },
     "execution_count": 106,
     "metadata": {},
     "output_type": "execute_result"
    }
   ],
   "source": [
    "mylist"
   ]
  },
  {
   "cell_type": "code",
   "execution_count": 107,
   "id": "792f8b61",
   "metadata": {},
   "outputs": [],
   "source": [
    "mylist = [x**2 for x in range(0,11) if x%2==0]"
   ]
  },
  {
   "cell_type": "code",
   "execution_count": 108,
   "id": "cdf67ab0",
   "metadata": {},
   "outputs": [
    {
     "data": {
      "text/plain": [
       "[0, 4, 16, 36, 64, 100]"
      ]
     },
     "execution_count": 108,
     "metadata": {},
     "output_type": "execute_result"
    }
   ],
   "source": [
    "mylist"
   ]
  },
  {
   "cell_type": "code",
   "execution_count": 109,
   "id": "76582fb5",
   "metadata": {},
   "outputs": [],
   "source": [
    "celcius = [0,10,20,34.5]\n",
    "\n",
    "fahrenheit = [( (9/5)*temp + 32) for temp in celcius]"
   ]
  },
  {
   "cell_type": "code",
   "execution_count": 110,
   "id": "1a6e49d2",
   "metadata": {},
   "outputs": [
    {
     "data": {
      "text/plain": [
       "[32.0, 50.0, 68.0, 94.1]"
      ]
     },
     "execution_count": 110,
     "metadata": {},
     "output_type": "execute_result"
    }
   ],
   "source": [
    "fahrenheit"
   ]
  },
  {
   "cell_type": "code",
   "execution_count": 112,
   "id": "1df9677f",
   "metadata": {},
   "outputs": [],
   "source": [
    "fahrenheit = []\n",
    "\n",
    "for temp in celcius:\n",
    "    fahrenheit.append(( (9/5)*temp + 32))"
   ]
  },
  {
   "cell_type": "code",
   "execution_count": 113,
   "id": "876a55c7",
   "metadata": {},
   "outputs": [
    {
     "data": {
      "text/plain": [
       "[32.0, 50.0, 68.0, 94.1]"
      ]
     },
     "execution_count": 113,
     "metadata": {},
     "output_type": "execute_result"
    }
   ],
   "source": [
    "fahrenheit"
   ]
  },
  {
   "cell_type": "code",
   "execution_count": 124,
   "id": "7dc027fc",
   "metadata": {},
   "outputs": [
    {
     "name": "stdout",
     "output_type": "stream",
     "text": [
      "(1, 'A')\n",
      "(2, 'B')\n",
      "(3, 'C')\n"
     ]
    }
   ],
   "source": [
    "mylist1 = [1,2,3]\n",
    "mylist2 = ['A','B','C']\n",
    "\n",
    "for letter in zip(mylist1,mylist2):\n",
    "    print(letter)"
   ]
  },
  {
   "cell_type": "code",
   "execution_count": 126,
   "id": "5cf65ce8",
   "metadata": {},
   "outputs": [
    {
     "data": {
      "text/plain": [
       "tuple"
      ]
     },
     "execution_count": 126,
     "metadata": {},
     "output_type": "execute_result"
    }
   ],
   "source": [
    "type(letter)"
   ]
  },
  {
   "cell_type": "code",
   "execution_count": 152,
   "id": "c0bc9c8f",
   "metadata": {},
   "outputs": [],
   "source": [
    "jay = 'Planet'\n",
    "\n",
    "jaylist = []\n",
    "\n",
    "for letter in jay:\n",
    "    jaylist.append(letter)"
   ]
  },
  {
   "cell_type": "code",
   "execution_count": 153,
   "id": "813f4904",
   "metadata": {},
   "outputs": [
    {
     "data": {
      "text/plain": [
       "['P', 'l', 'a', 'n', 'e', 't']"
      ]
     },
     "execution_count": 153,
     "metadata": {},
     "output_type": "execute_result"
    }
   ],
   "source": [
    "jaylist"
   ]
  },
  {
   "cell_type": "code",
   "execution_count": 159,
   "id": "3fa572db",
   "metadata": {},
   "outputs": [],
   "source": [
    "jaylist = []\n",
    "\n",
    "for x in [1,2,3]:\n",
    "    for y in ['a',5,1.23]:\n",
    "        jaylist.append(x*y)"
   ]
  },
  {
   "cell_type": "code",
   "execution_count": 160,
   "id": "19d21c3d",
   "metadata": {},
   "outputs": [
    {
     "data": {
      "text/plain": [
       "['a', 5, 1.23, 'aa', 10, 2.46, 'aaa', 15, 3.69]"
      ]
     },
     "execution_count": 160,
     "metadata": {},
     "output_type": "execute_result"
    }
   ],
   "source": [
    "jaylist"
   ]
  },
  {
   "cell_type": "code",
   "execution_count": null,
   "id": "200cb7b4",
   "metadata": {},
   "outputs": [],
   "source": []
  },
  {
   "cell_type": "code",
   "execution_count": 162,
   "id": "1ecc2936",
   "metadata": {},
   "outputs": [],
   "source": [
    "jaylist = 'Hello, here is Jaejin Lee. Nice to meet you.'"
   ]
  },
  {
   "cell_type": "code",
   "execution_count": 163,
   "id": "8b238f4c",
   "metadata": {},
   "outputs": [
    {
     "name": "stdout",
     "output_type": "stream",
     "text": [
      "Hello,\n",
      "here\n"
     ]
    }
   ],
   "source": [
    "for jay in jaylist.split():\n",
    "    if jay[0].lower() == 'h':\n",
    "        print(jay)"
   ]
  },
  {
   "cell_type": "code",
   "execution_count": 165,
   "id": "25448044",
   "metadata": {},
   "outputs": [],
   "source": [
    "mylist = [1,2,3,4]"
   ]
  },
  {
   "cell_type": "code",
   "execution_count": 166,
   "id": "8baea0fd",
   "metadata": {},
   "outputs": [
    {
     "data": {
      "text/plain": [
       "4"
      ]
     },
     "execution_count": 166,
     "metadata": {},
     "output_type": "execute_result"
    }
   ],
   "source": [
    "mylist.pop()"
   ]
  },
  {
   "cell_type": "code",
   "execution_count": 167,
   "id": "e97afebf",
   "metadata": {},
   "outputs": [
    {
     "data": {
      "text/plain": [
       "[1, 2, 3]"
      ]
     },
     "execution_count": 167,
     "metadata": {},
     "output_type": "execute_result"
    }
   ],
   "source": [
    "mylist"
   ]
  },
  {
   "cell_type": "code",
   "execution_count": 168,
   "id": "fa7106cf",
   "metadata": {},
   "outputs": [
    {
     "name": "stdout",
     "output_type": "stream",
     "text": [
      "Help on built-in function insert:\n",
      "\n",
      "insert(index, object, /) method of builtins.list instance\n",
      "    Insert object before index.\n",
      "\n"
     ]
    }
   ],
   "source": [
    "help(mylist.insert)"
   ]
  },
  {
   "cell_type": "code",
   "execution_count": null,
   "id": "b406d104",
   "metadata": {},
   "outputs": [],
   "source": []
  },
  {
   "cell_type": "code",
   "execution_count": null,
   "id": "ad31e87f",
   "metadata": {},
   "outputs": [],
   "source": []
  },
  {
   "cell_type": "code",
   "execution_count": null,
   "id": "ad908f4e",
   "metadata": {},
   "outputs": [],
   "source": []
  },
  {
   "cell_type": "code",
   "execution_count": null,
   "id": "498fb204",
   "metadata": {},
   "outputs": [],
   "source": []
  },
  {
   "cell_type": "code",
   "execution_count": null,
   "id": "05ce3e2c",
   "metadata": {},
   "outputs": [],
   "source": []
  },
  {
   "cell_type": "code",
   "execution_count": null,
   "id": "1f5a88dd",
   "metadata": {},
   "outputs": [],
   "source": []
  },
  {
   "cell_type": "code",
   "execution_count": null,
   "id": "fa7cf2a7",
   "metadata": {},
   "outputs": [],
   "source": []
  },
  {
   "cell_type": "code",
   "execution_count": null,
   "id": "246925b4",
   "metadata": {},
   "outputs": [],
   "source": []
  },
  {
   "cell_type": "code",
   "execution_count": null,
   "id": "e13c9034",
   "metadata": {},
   "outputs": [],
   "source": []
  },
  {
   "cell_type": "code",
   "execution_count": null,
   "id": "54754817",
   "metadata": {},
   "outputs": [],
   "source": []
  },
  {
   "cell_type": "code",
   "execution_count": null,
   "id": "b8a0ed0d",
   "metadata": {},
   "outputs": [],
   "source": []
  },
  {
   "cell_type": "code",
   "execution_count": null,
   "id": "3900728f",
   "metadata": {},
   "outputs": [],
   "source": []
  },
  {
   "cell_type": "code",
   "execution_count": null,
   "id": "a729a71d",
   "metadata": {},
   "outputs": [],
   "source": []
  },
  {
   "cell_type": "code",
   "execution_count": 190,
   "id": "66a5b874",
   "metadata": {},
   "outputs": [],
   "source": [
    "def jay_planet(x, y):\n",
    "    print(f'Hello {x}, {y}')"
   ]
  },
  {
   "cell_type": "code",
   "execution_count": 191,
   "id": "f614afaf",
   "metadata": {},
   "outputs": [
    {
     "name": "stdout",
     "output_type": "stream",
     "text": [
      "Hello Jay, Mary\n"
     ]
    }
   ],
   "source": [
    "jay_planet('Jay', 'Mary')"
   ]
  },
  {
   "cell_type": "code",
   "execution_count": 192,
   "id": "10dae58a",
   "metadata": {},
   "outputs": [],
   "source": [
    "def test(name='Default'):\n",
    "    print(f'Hello {name}')"
   ]
  },
  {
   "cell_type": "code",
   "execution_count": 193,
   "id": "1b032ff1",
   "metadata": {},
   "outputs": [
    {
     "name": "stdout",
     "output_type": "stream",
     "text": [
      "Hello Default\n"
     ]
    }
   ],
   "source": [
    "test()"
   ]
  },
  {
   "cell_type": "code",
   "execution_count": 173,
   "id": "2e027315",
   "metadata": {},
   "outputs": [],
   "source": [
    "def numnum(num1,num2):\n",
    "    return num1+num2"
   ]
  },
  {
   "cell_type": "code",
   "execution_count": 177,
   "id": "9c62c307",
   "metadata": {
    "scrolled": true
   },
   "outputs": [
    {
     "name": "stdout",
     "output_type": "stream",
     "text": [
      "223\n"
     ]
    }
   ],
   "source": [
    "result = numnum(100,123)\n",
    "print(result)"
   ]
  },
  {
   "cell_type": "code",
   "execution_count": 180,
   "id": "0f4d6685",
   "metadata": {},
   "outputs": [],
   "source": [
    "def say_hello():\n",
    "    print('How')\n",
    "    print('are')\n",
    "    print('you')"
   ]
  },
  {
   "cell_type": "code",
   "execution_count": 181,
   "id": "6a081b68",
   "metadata": {},
   "outputs": [
    {
     "name": "stdout",
     "output_type": "stream",
     "text": [
      "How\n",
      "are\n",
      "you\n"
     ]
    }
   ],
   "source": [
    "say_hello()"
   ]
  },
  {
   "cell_type": "code",
   "execution_count": 199,
   "id": "3b0d3449",
   "metadata": {},
   "outputs": [],
   "source": [
    "def add_num(num1,num2):\n",
    "    print(num1+num2)"
   ]
  },
  {
   "cell_type": "code",
   "execution_count": 205,
   "id": "06f75f18",
   "metadata": {},
   "outputs": [],
   "source": [
    "def myfunc(a,b):\n",
    "    print(a+b)\n",
    "    return a+b"
   ]
  },
  {
   "cell_type": "code",
   "execution_count": 208,
   "id": "32fd9a03",
   "metadata": {},
   "outputs": [
    {
     "name": "stdout",
     "output_type": "stream",
     "text": [
      "1020\n"
     ]
    }
   ],
   "source": [
    "result = myfunc('10','20')"
   ]
  },
  {
   "cell_type": "code",
   "execution_count": 209,
   "id": "7cba3f78",
   "metadata": {},
   "outputs": [
    {
     "data": {
      "text/plain": [
       "'1020'"
      ]
     },
     "execution_count": 209,
     "metadata": {},
     "output_type": "execute_result"
    }
   ],
   "source": [
    "result"
   ]
  },
  {
   "cell_type": "code",
   "execution_count": 211,
   "id": "3f25799a",
   "metadata": {},
   "outputs": [
    {
     "data": {
      "text/plain": [
       "True"
      ]
     },
     "execution_count": 211,
     "metadata": {},
     "output_type": "execute_result"
    }
   ],
   "source": [
    "20 % 3 == 2"
   ]
  },
  {
   "cell_type": "code",
   "execution_count": 214,
   "id": "a90ce050",
   "metadata": {},
   "outputs": [
    {
     "data": {
      "text/plain": [
       "False"
      ]
     },
     "execution_count": 214,
     "metadata": {},
     "output_type": "execute_result"
    }
   ],
   "source": [
    "21 % 2 == 0"
   ]
  },
  {
   "cell_type": "code",
   "execution_count": 220,
   "id": "7a356fc0",
   "metadata": {},
   "outputs": [],
   "source": [
    "def even_check(number):\n",
    "    return number % 2 == 0"
   ]
  },
  {
   "cell_type": "code",
   "execution_count": 221,
   "id": "7746bff9",
   "metadata": {},
   "outputs": [
    {
     "data": {
      "text/plain": [
       "True"
      ]
     },
     "execution_count": 221,
     "metadata": {},
     "output_type": "execute_result"
    }
   ],
   "source": [
    "even_check(20)"
   ]
  },
  {
   "cell_type": "code",
   "execution_count": 222,
   "id": "bad4f80d",
   "metadata": {},
   "outputs": [],
   "source": [
    "# Return True if any number is even inside a list"
   ]
  },
  {
   "cell_type": "code",
   "execution_count": 238,
   "id": "db151864",
   "metadata": {},
   "outputs": [],
   "source": [
    "def check_even_list(num_list):\n",
    "    # return all the even numbers in a list\n",
    "    \n",
    "    # placeholder variables\n",
    "    even_numbers = []\n",
    "    \n",
    "    for number in num_list:\n",
    "        if number % 2 == 0:\n",
    "            even_numbers.append(number)\n",
    "            \n",
    "        else:\n",
    "            pass #False - Wrong\n",
    "    \n",
    "    return even_numbers"
   ]
  },
  {
   "cell_type": "code",
   "execution_count": 240,
   "id": "bcd08e35",
   "metadata": {},
   "outputs": [
    {
     "data": {
      "text/plain": [
       "[2, 4]"
      ]
     },
     "execution_count": 240,
     "metadata": {},
     "output_type": "execute_result"
    }
   ],
   "source": [
    "check_even_list([1,2,3,4,5])"
   ]
  },
  {
   "cell_type": "code",
   "execution_count": 242,
   "id": "b634ee2e",
   "metadata": {},
   "outputs": [],
   "source": [
    "stock_prices = [('MAC',1000),('GOOG',500),('MSFT',100)]"
   ]
  },
  {
   "cell_type": "code",
   "execution_count": 248,
   "id": "57110550",
   "metadata": {},
   "outputs": [
    {
     "name": "stdout",
     "output_type": "stream",
     "text": [
      "1100.0\n",
      "550.0\n",
      "110.0\n"
     ]
    }
   ],
   "source": [
    "for x,y in stock_prices:\n",
    "    print(y+(0.1*y))"
   ]
  },
  {
   "cell_type": "code",
   "execution_count": 261,
   "id": "fb8a605a",
   "metadata": {},
   "outputs": [],
   "source": [
    "work_hours = [('Jay',240),('Mary',320),('Cathy',120)]"
   ]
  },
  {
   "cell_type": "code",
   "execution_count": 262,
   "id": "0fceb4d3",
   "metadata": {},
   "outputs": [],
   "source": [
    "def employee_check(work_hours):\n",
    "    \n",
    "    current_max = 0\n",
    "    employee_of_month = ''\n",
    "    \n",
    "    for employee, hours in work_hours:\n",
    "        if hours > current_max:\n",
    "            current_max = hours\n",
    "            employee_of_month = employee\n",
    "        else:\n",
    "            pass\n",
    "    \n",
    "    # Return\n",
    "    return(employee_of_month, current_max)"
   ]
  },
  {
   "cell_type": "code",
   "execution_count": 264,
   "id": "7122a813",
   "metadata": {},
   "outputs": [],
   "source": [
    "result = employee_check(work_hours)"
   ]
  },
  {
   "cell_type": "code",
   "execution_count": 265,
   "id": "116f08a2",
   "metadata": {},
   "outputs": [
    {
     "data": {
      "text/plain": [
       "('Mary', 320)"
      ]
     },
     "execution_count": 265,
     "metadata": {},
     "output_type": "execute_result"
    }
   ],
   "source": [
    "result"
   ]
  },
  {
   "cell_type": "code",
   "execution_count": 266,
   "id": "e4067fd9",
   "metadata": {},
   "outputs": [],
   "source": [
    "work,hours = employee_check(work_hours)"
   ]
  },
  {
   "cell_type": "code",
   "execution_count": 267,
   "id": "67ca22ac",
   "metadata": {},
   "outputs": [
    {
     "data": {
      "text/plain": [
       "'Mary'"
      ]
     },
     "execution_count": 267,
     "metadata": {},
     "output_type": "execute_result"
    }
   ],
   "source": [
    "work"
   ]
  },
  {
   "cell_type": "code",
   "execution_count": 268,
   "id": "9301abb8",
   "metadata": {},
   "outputs": [
    {
     "data": {
      "text/plain": [
       "320"
      ]
     },
     "execution_count": 268,
     "metadata": {},
     "output_type": "execute_result"
    }
   ],
   "source": [
    "hours"
   ]
  },
  {
   "cell_type": "code",
   "execution_count": null,
   "id": "83a81f94",
   "metadata": {},
   "outputs": [],
   "source": []
  },
  {
   "cell_type": "code",
   "execution_count": 273,
   "id": "c7cfc5ac",
   "metadata": {},
   "outputs": [],
   "source": [
    "example = [1,2,3,4,5,6,7,8,9]"
   ]
  },
  {
   "cell_type": "code",
   "execution_count": 275,
   "id": "6e3f474d",
   "metadata": {},
   "outputs": [],
   "source": [
    "from random import shuffle"
   ]
  },
  {
   "cell_type": "code",
   "execution_count": 278,
   "id": "424feab5",
   "metadata": {},
   "outputs": [],
   "source": [
    "result = shuffle(example)"
   ]
  },
  {
   "cell_type": "code",
   "execution_count": 280,
   "id": "3da4cf5a",
   "metadata": {},
   "outputs": [],
   "source": [
    "def shuffle_list(mylist):\n",
    "    shuffle(mylist)\n",
    "    return mylist"
   ]
  },
  {
   "cell_type": "code",
   "execution_count": null,
   "id": "b83ca7d8",
   "metadata": {},
   "outputs": [],
   "source": []
  }
 ],
 "metadata": {
  "kernelspec": {
   "display_name": "Python 3 (ipykernel)",
   "language": "python",
   "name": "python3"
  },
  "language_info": {
   "codemirror_mode": {
    "name": "ipython",
    "version": 3
   },
   "file_extension": ".py",
   "mimetype": "text/x-python",
   "name": "python",
   "nbconvert_exporter": "python",
   "pygments_lexer": "ipython3",
   "version": "3.10.9"
  }
 },
 "nbformat": 4,
 "nbformat_minor": 5
}

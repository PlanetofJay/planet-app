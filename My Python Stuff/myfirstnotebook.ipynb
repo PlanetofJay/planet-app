{
 "cells": [
  {
   "cell_type": "code",
   "execution_count": 1,
   "id": "2911f34e",
   "metadata": {},
   "outputs": [
    {
     "name": "stdout",
     "output_type": "stream",
     "text": [
      "hello\n"
     ]
    }
   ],
   "source": [
    "print('hello')"
   ]
  },
  {
   "cell_type": "code",
   "execution_count": 2,
   "id": "4e323680",
   "metadata": {},
   "outputs": [
    {
     "name": "stdout",
     "output_type": "stream",
     "text": [
      "new\n"
     ]
    }
   ],
   "source": [
    "print('new')"
   ]
  },
  {
   "cell_type": "code",
   "execution_count": 3,
   "id": "a6e5cf87",
   "metadata": {
    "scrolled": true
   },
   "outputs": [
    {
     "name": "stdout",
     "output_type": "stream",
     "text": [
      "test\n"
     ]
    }
   ],
   "source": [
    "print('test')"
   ]
  },
  {
   "cell_type": "markdown",
   "id": "f4b0f659",
   "metadata": {},
   "source": [
    "here you can write notes"
   ]
  },
  {
   "cell_type": "code",
   "execution_count": 4,
   "id": "7ec4f18b",
   "metadata": {},
   "outputs": [
    {
     "data": {
      "text/plain": [
       "1.5"
      ]
     },
     "execution_count": 4,
     "metadata": {},
     "output_type": "execute_result"
    }
   ],
   "source": [
    "3/2"
   ]
  },
  {
   "cell_type": "markdown",
   "id": "82aa9499",
   "metadata": {},
   "source": [
    "<h2>Modulo or \"Mod\" Operator"
   ]
  },
  {
   "cell_type": "code",
   "execution_count": 5,
   "id": "16a1e3b0",
   "metadata": {},
   "outputs": [
    {
     "data": {
      "text/plain": [
       "1.75"
      ]
     },
     "execution_count": 5,
     "metadata": {},
     "output_type": "execute_result"
    }
   ],
   "source": [
    "7 / 4"
   ]
  },
  {
   "cell_type": "code",
   "execution_count": 6,
   "id": "71e44591",
   "metadata": {},
   "outputs": [
    {
     "data": {
      "text/plain": [
       "3"
      ]
     },
     "execution_count": 6,
     "metadata": {},
     "output_type": "execute_result"
    }
   ],
   "source": [
    "7 % 4"
   ]
  },
  {
   "cell_type": "code",
   "execution_count": 7,
   "id": "d27430a6",
   "metadata": {},
   "outputs": [
    {
     "data": {
      "text/plain": [
       "0"
      ]
     },
     "execution_count": 7,
     "metadata": {},
     "output_type": "execute_result"
    }
   ],
   "source": [
    "50 % 5"
   ]
  },
  {
   "cell_type": "code",
   "execution_count": 8,
   "id": "423ab55f",
   "metadata": {},
   "outputs": [
    {
     "data": {
      "text/plain": [
       "8"
      ]
     },
     "execution_count": 8,
     "metadata": {},
     "output_type": "execute_result"
    }
   ],
   "source": [
    "2 ** 3"
   ]
  },
  {
   "cell_type": "code",
   "execution_count": 9,
   "id": "a30047b1",
   "metadata": {},
   "outputs": [
    {
     "data": {
      "text/plain": [
       "156"
      ]
     },
     "execution_count": 9,
     "metadata": {},
     "output_type": "execute_result"
    }
   ],
   "source": [
    "(2 + 10) * (10 + 3)"
   ]
  },
  {
   "cell_type": "markdown",
   "id": "25878b31",
   "metadata": {},
   "source": [
    "<h2>Variable Assignments"
   ]
  },
  {
   "cell_type": "code",
   "execution_count": 10,
   "id": "ff4d9ed3",
   "metadata": {},
   "outputs": [],
   "source": [
    "a = 5"
   ]
  },
  {
   "cell_type": "code",
   "execution_count": 11,
   "id": "72595b32",
   "metadata": {},
   "outputs": [
    {
     "data": {
      "text/plain": [
       "5"
      ]
     },
     "execution_count": 11,
     "metadata": {},
     "output_type": "execute_result"
    }
   ],
   "source": [
    "a"
   ]
  },
  {
   "cell_type": "code",
   "execution_count": 12,
   "id": "e75a5d3b",
   "metadata": {},
   "outputs": [],
   "source": [
    "a = 12"
   ]
  },
  {
   "cell_type": "code",
   "execution_count": 13,
   "id": "2a65f805",
   "metadata": {},
   "outputs": [
    {
     "data": {
      "text/plain": [
       "12"
      ]
     },
     "execution_count": 13,
     "metadata": {},
     "output_type": "execute_result"
    }
   ],
   "source": [
    "a"
   ]
  },
  {
   "cell_type": "code",
   "execution_count": 14,
   "id": "d7251c77",
   "metadata": {},
   "outputs": [
    {
     "data": {
      "text/plain": [
       "24"
      ]
     },
     "execution_count": 14,
     "metadata": {},
     "output_type": "execute_result"
    }
   ],
   "source": [
    "a + a"
   ]
  },
  {
   "cell_type": "code",
   "execution_count": 15,
   "id": "c1c4a979",
   "metadata": {},
   "outputs": [],
   "source": [
    "a = a + a"
   ]
  },
  {
   "cell_type": "code",
   "execution_count": 16,
   "id": "5a7696eb",
   "metadata": {},
   "outputs": [
    {
     "data": {
      "text/plain": [
       "24"
      ]
     },
     "execution_count": 16,
     "metadata": {},
     "output_type": "execute_result"
    }
   ],
   "source": [
    "a"
   ]
  },
  {
   "cell_type": "code",
   "execution_count": 17,
   "id": "c9fb3649",
   "metadata": {},
   "outputs": [
    {
     "data": {
      "text/plain": [
       "int"
      ]
     },
     "execution_count": 17,
     "metadata": {},
     "output_type": "execute_result"
    }
   ],
   "source": [
    "type(a)"
   ]
  },
  {
   "cell_type": "code",
   "execution_count": 18,
   "id": "7bdb6882",
   "metadata": {},
   "outputs": [],
   "source": [
    "a = 30.1"
   ]
  },
  {
   "cell_type": "code",
   "execution_count": 19,
   "id": "ed199de3",
   "metadata": {},
   "outputs": [
    {
     "data": {
      "text/plain": [
       "float"
      ]
     },
     "execution_count": 19,
     "metadata": {},
     "output_type": "execute_result"
    }
   ],
   "source": [
    "type(a)"
   ]
  },
  {
   "cell_type": "code",
   "execution_count": 20,
   "id": "355ec3d2",
   "metadata": {},
   "outputs": [],
   "source": [
    "my_income = 100\n",
    "\n",
    "tax_rate = 0.1\n",
    "\n",
    "my_taxes = my_income * tax_rate"
   ]
  },
  {
   "cell_type": "code",
   "execution_count": 21,
   "id": "2dc3226f",
   "metadata": {},
   "outputs": [
    {
     "data": {
      "text/plain": [
       "10.0"
      ]
     },
     "execution_count": 21,
     "metadata": {},
     "output_type": "execute_result"
    }
   ],
   "source": [
    "my_taxes"
   ]
  },
  {
   "cell_type": "markdown",
   "id": "71486f52",
   "metadata": {},
   "source": [
    "<h2>Test Strings"
   ]
  },
  {
   "cell_type": "code",
   "execution_count": 22,
   "id": "3fb31d86",
   "metadata": {},
   "outputs": [
    {
     "data": {
      "text/plain": [
       "'hello'"
      ]
     },
     "execution_count": 22,
     "metadata": {},
     "output_type": "execute_result"
    }
   ],
   "source": [
    "'hello'"
   ]
  },
  {
   "cell_type": "code",
   "execution_count": 23,
   "id": "226c2f5d",
   "metadata": {},
   "outputs": [
    {
     "data": {
      "text/plain": [
       "'world'"
      ]
     },
     "execution_count": 23,
     "metadata": {},
     "output_type": "execute_result"
    }
   ],
   "source": [
    "\"world\""
   ]
  },
  {
   "cell_type": "code",
   "execution_count": 24,
   "id": "ec423ed4",
   "metadata": {},
   "outputs": [
    {
     "data": {
      "text/plain": [
       "\"We're in the planet\""
      ]
     },
     "execution_count": 24,
     "metadata": {},
     "output_type": "execute_result"
    }
   ],
   "source": [
    "\"We're in the planet\""
   ]
  },
  {
   "cell_type": "code",
   "execution_count": 25,
   "id": "8de1288b",
   "metadata": {},
   "outputs": [
    {
     "name": "stdout",
     "output_type": "stream",
     "text": [
      "hello\n"
     ]
    }
   ],
   "source": [
    "print(\"hello\")"
   ]
  },
  {
   "cell_type": "code",
   "execution_count": 26,
   "id": "614442b5",
   "metadata": {},
   "outputs": [
    {
     "name": "stdout",
     "output_type": "stream",
     "text": [
      "hello \tworld\n"
     ]
    }
   ],
   "source": [
    "print('hello \\tworld')"
   ]
  },
  {
   "cell_type": "code",
   "execution_count": 27,
   "id": "dca4a663",
   "metadata": {},
   "outputs": [
    {
     "data": {
      "text/plain": [
       "19"
      ]
     },
     "execution_count": 27,
     "metadata": {},
     "output_type": "execute_result"
    }
   ],
   "source": [
    "len('Here is Jaejin Lee.')"
   ]
  },
  {
   "cell_type": "code",
   "execution_count": null,
   "id": "175be0be",
   "metadata": {},
   "outputs": [],
   "source": []
  },
  {
   "cell_type": "code",
   "execution_count": null,
   "id": "c14ac0f6",
   "metadata": {},
   "outputs": [],
   "source": []
  },
  {
   "cell_type": "code",
   "execution_count": null,
   "id": "a754184b",
   "metadata": {},
   "outputs": [],
   "source": []
  },
  {
   "cell_type": "code",
   "execution_count": null,
   "id": "596a3a4f",
   "metadata": {},
   "outputs": [],
   "source": []
  },
  {
   "cell_type": "code",
   "execution_count": null,
   "id": "945dc50c",
   "metadata": {},
   "outputs": [],
   "source": []
  },
  {
   "cell_type": "code",
   "execution_count": null,
   "id": "cbaa28f1",
   "metadata": {},
   "outputs": [],
   "source": []
  },
  {
   "cell_type": "code",
   "execution_count": 28,
   "id": "51369803",
   "metadata": {},
   "outputs": [],
   "source": [
    "planet = ['Jay', 100, 29.03]"
   ]
  },
  {
   "cell_type": "code",
   "execution_count": 29,
   "id": "5a6883d7",
   "metadata": {},
   "outputs": [
    {
     "data": {
      "text/plain": [
       "100"
      ]
     },
     "execution_count": 29,
     "metadata": {},
     "output_type": "execute_result"
    }
   ],
   "source": [
    "planet[1]"
   ]
  },
  {
   "cell_type": "code",
   "execution_count": 30,
   "id": "ad037261",
   "metadata": {},
   "outputs": [],
   "source": [
    "planet[1] = [100, 123]"
   ]
  },
  {
   "cell_type": "code",
   "execution_count": 31,
   "id": "3dfff879",
   "metadata": {},
   "outputs": [
    {
     "data": {
      "text/plain": [
       "['Jay', [100, 123], 29.03]"
      ]
     },
     "execution_count": 31,
     "metadata": {},
     "output_type": "execute_result"
    }
   ],
   "source": [
    "planet"
   ]
  },
  {
   "cell_type": "code",
   "execution_count": 32,
   "id": "eab2daf0",
   "metadata": {},
   "outputs": [
    {
     "data": {
      "text/plain": [
       "29.03"
      ]
     },
     "execution_count": 32,
     "metadata": {},
     "output_type": "execute_result"
    }
   ],
   "source": [
    "planet.pop()"
   ]
  },
  {
   "cell_type": "code",
   "execution_count": 33,
   "id": "98d2797c",
   "metadata": {},
   "outputs": [
    {
     "data": {
      "text/plain": [
       "['Jay', [100, 123]]"
      ]
     },
     "execution_count": 33,
     "metadata": {},
     "output_type": "execute_result"
    }
   ],
   "source": [
    "planet"
   ]
  },
  {
   "cell_type": "code",
   "execution_count": null,
   "id": "56599d9e",
   "metadata": {},
   "outputs": [],
   "source": []
  },
  {
   "cell_type": "code",
   "execution_count": null,
   "id": "8e1744d6",
   "metadata": {},
   "outputs": [],
   "source": []
  },
  {
   "cell_type": "code",
   "execution_count": null,
   "id": "6004cdb7",
   "metadata": {},
   "outputs": [],
   "source": []
  },
  {
   "cell_type": "code",
   "execution_count": null,
   "id": "69db09c6",
   "metadata": {},
   "outputs": [],
   "source": []
  },
  {
   "cell_type": "markdown",
   "id": "8bbdef20",
   "metadata": {},
   "source": [
    "<h2>Journal</h2>"
   ]
  },
  {
   "cell_type": "code",
   "execution_count": 34,
   "id": "f298ed3b",
   "metadata": {},
   "outputs": [],
   "source": [
    "planet[1][0:].append('Jay')"
   ]
  },
  {
   "cell_type": "code",
   "execution_count": 35,
   "id": "88a50661",
   "metadata": {},
   "outputs": [],
   "source": [
    "planet.append('12315236')"
   ]
  },
  {
   "cell_type": "code",
   "execution_count": 36,
   "id": "ec046c49",
   "metadata": {},
   "outputs": [
    {
     "data": {
      "text/plain": [
       "['Jay', [100, 123], '12315236']"
      ]
     },
     "execution_count": 36,
     "metadata": {},
     "output_type": "execute_result"
    }
   ],
   "source": [
    "planet"
   ]
  },
  {
   "cell_type": "code",
   "execution_count": 37,
   "id": "1e4796ce",
   "metadata": {},
   "outputs": [
    {
     "data": {
      "text/plain": [
       "[100, 123]"
      ]
     },
     "execution_count": 37,
     "metadata": {},
     "output_type": "execute_result"
    }
   ],
   "source": [
    "planet[1][0:]"
   ]
  },
  {
   "cell_type": "code",
   "execution_count": 38,
   "id": "eb73be9e",
   "metadata": {},
   "outputs": [
    {
     "ename": "IndexError",
     "evalue": "list index out of range",
     "output_type": "error",
     "traceback": [
      "\u001b[0;31m---------------------------------------------------------------------------\u001b[0m",
      "\u001b[0;31mIndexError\u001b[0m                                Traceback (most recent call last)",
      "Cell \u001b[0;32mIn[38], line 1\u001b[0m\n\u001b[0;32m----> 1\u001b[0m \u001b[43mplanet\u001b[49m\u001b[43m[\u001b[49m\u001b[38;5;241;43m3\u001b[39;49m\u001b[43m]\u001b[49m[\u001b[38;5;241m16\u001b[39m:\u001b[38;5;241m19\u001b[39m:\u001b[38;5;241m1\u001b[39m][::\u001b[38;5;241m1\u001b[39m]\u001b[38;5;241m.\u001b[39mupper()\u001b[38;5;241m.\u001b[39msplit(\u001b[38;5;124m'\u001b[39m\u001b[38;5;124mA\u001b[39m\u001b[38;5;124m'\u001b[39m)\n",
      "\u001b[0;31mIndexError\u001b[0m: list index out of range"
     ]
    }
   ],
   "source": [
    "planet[3][16:19:1][::1].upper().split('A')"
   ]
  },
  {
   "cell_type": "code",
   "execution_count": null,
   "id": "929f70d4",
   "metadata": {},
   "outputs": [],
   "source": [
    "planet = \"JAY\""
   ]
  },
  {
   "cell_type": "code",
   "execution_count": null,
   "id": "459cd246",
   "metadata": {},
   "outputs": [],
   "source": [
    "print('Who are you? %s.' %(planet))\n",
    "print('Say it again? %r.' %(planet))\n",
    "print(\"How's your tall? %s.\" %(178.58))\n",
    "print(\"What's the decimal tho? %d, shame on you.\" %(178.58))\n",
    "print(\"Pardon? %40.2f, bye~~\" %(178.58))"
   ]
  },
  {
   "cell_type": "code",
   "execution_count": null,
   "id": "b47c73d2",
   "metadata": {},
   "outputs": [],
   "source": [
    "planet[3] = planet[3] + \", I can't go to sleep\""
   ]
  },
  {
   "cell_type": "code",
   "execution_count": null,
   "id": "9c765146",
   "metadata": {},
   "outputs": [],
   "source": [
    "planet"
   ]
  },
  {
   "cell_type": "code",
   "execution_count": null,
   "id": "28efa45f",
   "metadata": {},
   "outputs": [],
   "source": [
    "case = 'j'"
   ]
  },
  {
   "cell_type": "code",
   "execution_count": null,
   "id": "e55138d3",
   "metadata": {},
   "outputs": [],
   "source": [
    "case * 6"
   ]
  },
  {
   "cell_type": "code",
   "execution_count": null,
   "id": "b1122898",
   "metadata": {},
   "outputs": [],
   "source": [
    "jay_dict={'Jay':123, 123:2324, 12.45:'value'}"
   ]
  },
  {
   "cell_type": "code",
   "execution_count": null,
   "id": "608b4a15",
   "metadata": {},
   "outputs": [],
   "source": [
    "jay_dict['Jay'] = 'Jaejin'"
   ]
  },
  {
   "cell_type": "code",
   "execution_count": null,
   "id": "b9ac29f4",
   "metadata": {},
   "outputs": [],
   "source": [
    "jay_dict[12.45] = {'insideKey':123}"
   ]
  },
  {
   "cell_type": "code",
   "execution_count": null,
   "id": "b1f970df",
   "metadata": {},
   "outputs": [],
   "source": [
    "jay_dict"
   ]
  },
  {
   "cell_type": "code",
   "execution_count": null,
   "id": "93413aa7",
   "metadata": {},
   "outputs": [],
   "source": [
    "jay_dict[12.45]['insideKey']"
   ]
  },
  {
   "cell_type": "code",
   "execution_count": null,
   "id": "628935b4",
   "metadata": {},
   "outputs": [],
   "source": [
    "jay_dict.items()"
   ]
  },
  {
   "cell_type": "code",
   "execution_count": null,
   "id": "c86f257c",
   "metadata": {},
   "outputs": [],
   "source": [
    "jay = (1, 'a', 3.14)"
   ]
  },
  {
   "cell_type": "code",
   "execution_count": null,
   "id": "4d96e707",
   "metadata": {},
   "outputs": [],
   "source": [
    "type(jay)"
   ]
  },
  {
   "cell_type": "code",
   "execution_count": null,
   "id": "47bcee85",
   "metadata": {},
   "outputs": [],
   "source": [
    "jay[2:]"
   ]
  },
  {
   "cell_type": "code",
   "execution_count": null,
   "id": "f787f368",
   "metadata": {},
   "outputs": [],
   "source": [
    "jay.index('a')"
   ]
  },
  {
   "cell_type": "code",
   "execution_count": null,
   "id": "d147ce16",
   "metadata": {},
   "outputs": [],
   "source": [
    "type(jay)"
   ]
  },
  {
   "cell_type": "code",
   "execution_count": null,
   "id": "3bf917c0",
   "metadata": {},
   "outputs": [],
   "source": [
    "sets=['a','z','t',6,2,9,1,2,2,6]"
   ]
  },
  {
   "cell_type": "code",
   "execution_count": null,
   "id": "ebc1cc1a",
   "metadata": {},
   "outputs": [],
   "source": [
    "set(sets)"
   ]
  },
  {
   "cell_type": "code",
   "execution_count": null,
   "id": "d7aa3301",
   "metadata": {},
   "outputs": [],
   "source": [
    "jay = [123, 96, 12]"
   ]
  },
  {
   "cell_type": "code",
   "execution_count": null,
   "id": "d6a95ad6",
   "metadata": {},
   "outputs": [],
   "source": [
    "jay"
   ]
  },
  {
   "cell_type": "code",
   "execution_count": null,
   "id": "5113ab70",
   "metadata": {},
   "outputs": [],
   "source": [
    "'1' * 1 <= 1 * '0' * (1 * 1)"
   ]
  },
  {
   "cell_type": "code",
   "execution_count": null,
   "id": "0d86cd1b",
   "metadata": {},
   "outputs": [],
   "source": [
    "%%writefile planet.txt\n",
    "This is the first note of mine\n",
    "TEST\n",
    "test"
   ]
  },
  {
   "cell_type": "code",
   "execution_count": null,
   "id": "4ab5475b",
   "metadata": {},
   "outputs": [],
   "source": [
    "pwd"
   ]
  },
  {
   "cell_type": "code",
   "execution_count": null,
   "id": "3fb8cd30",
   "metadata": {},
   "outputs": [],
   "source": [
    "myfile = open('planet.txt')"
   ]
  },
  {
   "cell_type": "code",
   "execution_count": null,
   "id": "a203f571",
   "metadata": {},
   "outputs": [],
   "source": [
    "myfile.readlines()"
   ]
  },
  {
   "cell_type": "code",
   "execution_count": null,
   "id": "8111cab7",
   "metadata": {},
   "outputs": [],
   "source": [
    "myfile.seek(0)"
   ]
  },
  {
   "cell_type": "code",
   "execution_count": null,
   "id": "4582b218",
   "metadata": {},
   "outputs": [],
   "source": [
    "with open('planet.txt', mode='r') as my_app:\n",
    "    contents = my_app.read()"
   ]
  },
  {
   "cell_type": "code",
   "execution_count": null,
   "id": "22b8a805",
   "metadata": {},
   "outputs": [],
   "source": [
    "contents"
   ]
  },
  {
   "cell_type": "code",
   "execution_count": null,
   "id": "95b2e11d",
   "metadata": {},
   "outputs": [],
   "source": [
    "with open('planet.txt', mode='r') as f:\n",
    "    print(f.read())"
   ]
  },
  {
   "cell_type": "code",
   "execution_count": null,
   "id": "c1b6ed6f",
   "metadata": {},
   "outputs": [],
   "source": [
    "with open('planet.txt', mode='a') as f:\n",
    "    f.write('TEST is done')"
   ]
  },
  {
   "cell_type": "code",
   "execution_count": null,
   "id": "ac60f6d2",
   "metadata": {},
   "outputs": [],
   "source": [
    "with open('planet.txt', mode='r') as f:\n",
    "    print(f.read())"
   ]
  },
  {
   "cell_type": "code",
   "execution_count": null,
   "id": "52b2c80b",
   "metadata": {},
   "outputs": [],
   "source": [
    "with open('test.txt', mode='w') as f:\n",
    "    f.write('test test.txt')"
   ]
  },
  {
   "cell_type": "code",
   "execution_count": null,
   "id": "ba8f6ac1",
   "metadata": {},
   "outputs": [],
   "source": [
    "with open('test.txt', mode='r') as f:\n",
    "    print(f.read())"
   ]
  },
  {
   "cell_type": "code",
   "execution_count": null,
   "id": "73babc62",
   "metadata": {},
   "outputs": [],
   "source": []
  },
  {
   "cell_type": "code",
   "execution_count": null,
   "id": "4c8e47e1",
   "metadata": {},
   "outputs": [],
   "source": [
    "a = 12\n",
    "b = a - 4 + 2\n",
    "not a >= b and a != b or a - 3 < b"
   ]
  },
  {
   "cell_type": "code",
   "execution_count": null,
   "id": "566ebd84",
   "metadata": {},
   "outputs": [],
   "source": []
  },
  {
   "cell_type": "code",
   "execution_count": null,
   "id": "78b5937f",
   "metadata": {},
   "outputs": [],
   "source": [
    "jay = ['Jay', 123, 'Jaejin']\n",
    "\n",
    "if jay == 'jay':\n",
    "    print(\"It's true!\")\n",
    "elif jay[1] == 123 and jay[2] == 'Jaejin':\n",
    "    print(\"You got it\")\n",
    "else:\n",
    "    print('Something is wrong')"
   ]
  },
  {
   "cell_type": "code",
   "execution_count": null,
   "id": "148ee814",
   "metadata": {},
   "outputs": [],
   "source": []
  },
  {
   "cell_type": "markdown",
   "id": "ab225963",
   "metadata": {},
   "source": [
    "<i>start studying about control and flow."
   ]
  },
  {
   "cell_type": "code",
   "execution_count": 2,
   "id": "eb74444b",
   "metadata": {},
   "outputs": [
    {
     "name": "stdout",
     "output_type": "stream",
     "text": [
      "1\n",
      "2\n",
      "3\n",
      "4\n",
      "5\n",
      "6\n",
      "7\n",
      "8\n",
      "9\n",
      "10\n"
     ]
    }
   ],
   "source": [
    "my_iterable = [1,2,3,4,5,6,7,8,9,10]\n",
    "for jay_list in my_iterable:\n",
    "    print(jay_list)"
   ]
  },
  {
   "cell_type": "code",
   "execution_count": 16,
   "id": "5f797df3",
   "metadata": {},
   "outputs": [],
   "source": [
    "my_iterable = [1,2,3,4,5,6,7,8,9,10]"
   ]
  },
  {
   "cell_type": "code",
   "execution_count": 17,
   "id": "d5b9a9b0",
   "metadata": {},
   "outputs": [
    {
     "name": "stdout",
     "output_type": "stream",
     "text": [
      "jay\n",
      "jay\n",
      "jay\n",
      "jay\n",
      "jay\n",
      "jay\n",
      "jay\n",
      "jay\n",
      "jay\n",
      "jay\n"
     ]
    }
   ],
   "source": [
    "for i in my_iterable:\n",
    "    print('jay')"
   ]
  },
  {
   "cell_type": "code",
   "execution_count": 23,
   "id": "8fba8e06",
   "metadata": {},
   "outputs": [
    {
     "name": "stdout",
     "output_type": "stream",
     "text": [
      "Odd Number: 1\n",
      "2\n",
      "Odd Number: 3\n",
      "4\n",
      "Odd Number: 5\n",
      "6\n",
      "Odd Number: 7\n",
      "8\n",
      "Odd Number: 9\n",
      "10\n"
     ]
    }
   ],
   "source": [
    "for num in my_iterable:\n",
    "    if num % 2 == 0:\n",
    "        print(num)\n",
    "    else:\n",
    "        print(f'Odd Number: {num}')"
   ]
  },
  {
   "cell_type": "code",
   "execution_count": 2,
   "id": "d192479c",
   "metadata": {},
   "outputs": [
    {
     "name": "stdout",
     "output_type": "stream",
     "text": [
      "1\n",
      "2\n",
      "3\n"
     ]
    }
   ],
   "source": [
    "tup = (1,2,3)\n",
    "\n",
    "for _ in tup:\n",
    "    print(_)"
   ]
  },
  {
   "cell_type": "code",
   "execution_count": 15,
   "id": "593b4302",
   "metadata": {},
   "outputs": [
    {
     "data": {
      "text/plain": [
       "3"
      ]
     },
     "execution_count": 15,
     "metadata": {},
     "output_type": "execute_result"
    }
   ],
   "source": [
    "mylist = [(1,2,3),(4,5,6),(7,8,9)]\n",
    "len(mylist)"
   ]
  },
  {
   "cell_type": "code",
   "execution_count": 14,
   "id": "e7c4badd",
   "metadata": {},
   "outputs": [
    {
     "name": "stdout",
     "output_type": "stream",
     "text": [
      "1\n",
      "2\n",
      "3\n",
      "4\n",
      "5\n",
      "6\n",
      "7\n",
      "8\n"
     ]
    }
   ],
   "source": [
    "for a,b in mylist:\n",
    "    print(a)\n",
    "    print(b)"
   ]
  },
  {
   "cell_type": "code",
   "execution_count": 18,
   "id": "9c7e8921",
   "metadata": {},
   "outputs": [
    {
     "name": "stdout",
     "output_type": "stream",
     "text": [
      "1\n",
      "2\n",
      "3\n",
      "4\n",
      "5\n",
      "6\n",
      "7\n",
      "8\n",
      "9\n"
     ]
    }
   ],
   "source": [
    "for a,b,c in mylist:\n",
    "    print(a)\n",
    "    print(b)\n",
    "    print(c)"
   ]
  },
  {
   "cell_type": "code",
   "execution_count": 25,
   "id": "5e17303c",
   "metadata": {},
   "outputs": [
    {
     "name": "stdout",
     "output_type": "stream",
     "text": [
      "1\n",
      "2\n",
      "3\n"
     ]
    }
   ],
   "source": [
    "d = {'k1':1, 'k2':2, 'k3':3}\n",
    "\n",
    "for value in d.values():\n",
    "    print(value)"
   ]
  },
  {
   "cell_type": "code",
   "execution_count": null,
   "id": "5d59a957",
   "metadata": {},
   "outputs": [],
   "source": [
    "x = 0\n",
    "\n",
    "while x < 5:\n",
    "    print(f'The current value of x is {x}')\n",
    "    x = x + 1"
   ]
  },
  {
   "cell_type": "code",
   "execution_count": null,
   "id": "8337542d",
   "metadata": {},
   "outputs": [],
   "source": []
  }
 ],
 "metadata": {
  "kernelspec": {
   "display_name": "Python 3 (ipykernel)",
   "language": "python",
   "name": "python3"
  },
  "language_info": {
   "codemirror_mode": {
    "name": "ipython",
    "version": 3
   },
   "file_extension": ".py",
   "mimetype": "text/x-python",
   "name": "python",
   "nbconvert_exporter": "python",
   "pygments_lexer": "ipython3",
   "version": "3.10.9"
  }
 },
 "nbformat": 4,
 "nbformat_minor": 5
}

{
 "cells": [
  {
   "cell_type": "markdown",
   "id": "b7158931",
   "metadata": {},
   "source": [
    "Lists can be thought of the most general version of a sequence in Python. Unlike strings, they are mutable, meaning the elements inside a list can be changed."
   ]
  },
  {
   "cell_type": "code",
   "execution_count": 1,
   "id": "f7e18682",
   "metadata": {},
   "outputs": [],
   "source": [
    "my_list = [1,2,3]"
   ]
  },
  {
   "cell_type": "code",
   "execution_count": 2,
   "id": "53049e1d",
   "metadata": {},
   "outputs": [],
   "source": [
    "my_list = ['String',100, 29.45]"
   ]
  },
  {
   "cell_type": "code",
   "execution_count": 3,
   "id": "5ded6212",
   "metadata": {},
   "outputs": [
    {
     "data": {
      "text/plain": [
       "3"
      ]
     },
     "execution_count": 3,
     "metadata": {},
     "output_type": "execute_result"
    }
   ],
   "source": [
    "len(my_list)"
   ]
  },
  {
   "cell_type": "code",
   "execution_count": 7,
   "id": "f58b7f33",
   "metadata": {},
   "outputs": [
    {
     "data": {
      "text/plain": [
       "['String']"
      ]
     },
     "execution_count": 7,
     "metadata": {},
     "output_type": "execute_result"
    }
   ],
   "source": [
    "my_list[:1]"
   ]
  },
  {
   "cell_type": "code",
   "execution_count": 8,
   "id": "791f6301",
   "metadata": {},
   "outputs": [],
   "source": [
    "second_list = ['Jay', 'Planet']"
   ]
  },
  {
   "cell_type": "code",
   "execution_count": 10,
   "id": "3ca1a866",
   "metadata": {},
   "outputs": [],
   "source": [
    "new_list = my_list + second_list"
   ]
  },
  {
   "cell_type": "code",
   "execution_count": 26,
   "id": "23fead7f",
   "metadata": {},
   "outputs": [
    {
     "data": {
      "text/plain": [
       "[100, 'Jay', 'Planet']"
      ]
     },
     "execution_count": 26,
     "metadata": {},
     "output_type": "execute_result"
    }
   ],
   "source": [
    "new_list"
   ]
  },
  {
   "cell_type": "code",
   "execution_count": 12,
   "id": "8b342ff3",
   "metadata": {},
   "outputs": [],
   "source": [
    "new_list[0] = 'STRING ALL CAPS'"
   ]
  },
  {
   "cell_type": "code",
   "execution_count": 16,
   "id": "2e9a1caa",
   "metadata": {},
   "outputs": [],
   "source": [
    "new_list.append('Seventh')"
   ]
  },
  {
   "cell_type": "code",
   "execution_count": 25,
   "id": "a28d4068",
   "metadata": {},
   "outputs": [
    {
     "data": {
      "text/plain": [
       "29.45"
      ]
     },
     "execution_count": 25,
     "metadata": {},
     "output_type": "execute_result"
    }
   ],
   "source": [
    "new_list.pop(1)"
   ]
  },
  {
   "cell_type": "code",
   "execution_count": 20,
   "id": "6d68ec81",
   "metadata": {},
   "outputs": [],
   "source": [
    "popped_item = new_list.pop()"
   ]
  },
  {
   "cell_type": "code",
   "execution_count": 21,
   "id": "2f16e0b2",
   "metadata": {},
   "outputs": [
    {
     "data": {
      "text/plain": [
       "'Sixth'"
      ]
     },
     "execution_count": 21,
     "metadata": {},
     "output_type": "execute_result"
    }
   ],
   "source": [
    "popped_item"
   ]
  },
  {
   "cell_type": "code",
   "execution_count": 39,
   "id": "47eee465",
   "metadata": {},
   "outputs": [],
   "source": [
    "new_list = ['a','e','x','n','s']\n",
    "num_list = [4,7,2,5,1]"
   ]
  },
  {
   "cell_type": "code",
   "execution_count": 29,
   "id": "35f1ee27",
   "metadata": {},
   "outputs": [],
   "source": [
    "new_list.sort()"
   ]
  },
  {
   "cell_type": "code",
   "execution_count": 30,
   "id": "dc89bfab",
   "metadata": {},
   "outputs": [
    {
     "data": {
      "text/plain": [
       "['a', 'e', 'n', 's', 'x']"
      ]
     },
     "execution_count": 30,
     "metadata": {},
     "output_type": "execute_result"
    }
   ],
   "source": [
    "new_list"
   ]
  },
  {
   "cell_type": "code",
   "execution_count": 31,
   "id": "d8d3ca0a",
   "metadata": {},
   "outputs": [],
   "source": [
    "my_sorted_list = new_list.sort()"
   ]
  },
  {
   "cell_type": "code",
   "execution_count": 33,
   "id": "a426f0dd",
   "metadata": {},
   "outputs": [
    {
     "data": {
      "text/plain": [
       "NoneType"
      ]
     },
     "execution_count": 33,
     "metadata": {},
     "output_type": "execute_result"
    }
   ],
   "source": [
    "type(my_sorted_list)"
   ]
  },
  {
   "cell_type": "code",
   "execution_count": 34,
   "id": "7c4a9bf6",
   "metadata": {},
   "outputs": [],
   "source": [
    "None"
   ]
  },
  {
   "cell_type": "code",
   "execution_count": 45,
   "id": "429e04ec",
   "metadata": {},
   "outputs": [],
   "source": [
    "num_list.reverse()\n",
    "my_reversed_list = num_list"
   ]
  },
  {
   "cell_type": "code",
   "execution_count": 47,
   "id": "b19a159f",
   "metadata": {},
   "outputs": [
    {
     "data": {
      "text/plain": [
       "[1, 2, 4, 5, 7]"
      ]
     },
     "execution_count": 47,
     "metadata": {},
     "output_type": "execute_result"
    }
   ],
   "source": [
    "my_reversed_list"
   ]
  },
  {
   "cell_type": "code",
   "execution_count": null,
   "id": "bf4f40cb",
   "metadata": {},
   "outputs": [],
   "source": []
  }
 ],
 "metadata": {
  "kernelspec": {
   "display_name": "Python 3 (ipykernel)",
   "language": "python",
   "name": "python3"
  },
  "language_info": {
   "codemirror_mode": {
    "name": "ipython",
    "version": 3
   },
   "file_extension": ".py",
   "mimetype": "text/x-python",
   "name": "python",
   "nbconvert_exporter": "python",
   "pygments_lexer": "ipython3",
   "version": "3.10.9"
  }
 },
 "nbformat": 4,
 "nbformat_minor": 5
}

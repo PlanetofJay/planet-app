{
 "cells": [
  {
   "cell_type": "markdown",
   "id": "2c4a7756",
   "metadata": {},
   "source": [
    "String Indexing and Slicing"
   ]
  },
  {
   "cell_type": "code",
   "execution_count": 16,
   "id": "d193a8f8",
   "metadata": {},
   "outputs": [],
   "source": [
    "mystring = \"abcdefghijk\""
   ]
  },
  {
   "cell_type": "code",
   "execution_count": 17,
   "id": "cee1d67b",
   "metadata": {},
   "outputs": [
    {
     "data": {
      "text/plain": [
       "'abcdefghijk'"
      ]
     },
     "execution_count": 17,
     "metadata": {},
     "output_type": "execute_result"
    }
   ],
   "source": [
    "mystring"
   ]
  },
  {
   "cell_type": "code",
   "execution_count": 8,
   "id": "f232ff31",
   "metadata": {},
   "outputs": [
    {
     "ename": "IndexError",
     "evalue": "string index out of range",
     "output_type": "error",
     "traceback": [
      "\u001b[0;31m---------------------------------------------------------------------------\u001b[0m",
      "\u001b[0;31mIndexError\u001b[0m                                Traceback (most recent call last)",
      "Cell \u001b[0;32mIn[8], line 1\u001b[0m\n\u001b[0;32m----> 1\u001b[0m \u001b[43mmystring\u001b[49m\u001b[43m[\u001b[49m\u001b[38;5;241;43m-\u001b[39;49m\u001b[38;5;241;43m12\u001b[39;49m\u001b[43m]\u001b[49m\n",
      "\u001b[0;31mIndexError\u001b[0m: string index out of range"
     ]
    }
   ],
   "source": [
    "mystring[-12]"
   ]
  },
  {
   "cell_type": "code",
   "execution_count": 18,
   "id": "9a4b6eae",
   "metadata": {},
   "outputs": [
    {
     "data": {
      "text/plain": [
       "'def'"
      ]
     },
     "execution_count": 18,
     "metadata": {},
     "output_type": "execute_result"
    }
   ],
   "source": [
    "mystring[3:6]"
   ]
  },
  {
   "cell_type": "code",
   "execution_count": 20,
   "id": "1cc44261",
   "metadata": {},
   "outputs": [
    {
     "data": {
      "text/plain": [
       "'defghi'"
      ]
     },
     "execution_count": 20,
     "metadata": {},
     "output_type": "execute_result"
    }
   ],
   "source": [
    "mystring[3:9]"
   ]
  },
  {
   "cell_type": "code",
   "execution_count": 22,
   "id": "cc9ec852",
   "metadata": {},
   "outputs": [
    {
     "data": {
      "text/plain": [
       "'ceg'"
      ]
     },
     "execution_count": 22,
     "metadata": {},
     "output_type": "execute_result"
    }
   ],
   "source": [
    "mystring[2:7:2]"
   ]
  },
  {
   "cell_type": "code",
   "execution_count": 23,
   "id": "0be1ebd4",
   "metadata": {},
   "outputs": [
    {
     "data": {
      "text/plain": [
       "'kjihgfedcba'"
      ]
     },
     "execution_count": 23,
     "metadata": {},
     "output_type": "execute_result"
    }
   ],
   "source": [
    "mystring[::-1]"
   ]
  },
  {
   "cell_type": "markdown",
   "id": "e44ea09e",
   "metadata": {},
   "source": [
    "String Properties and Methods"
   ]
  },
  {
   "cell_type": "markdown",
   "id": "502561d3",
   "metadata": {},
   "source": [
    "Immutability"
   ]
  },
  {
   "cell_type": "code",
   "execution_count": 25,
   "id": "c0b8135d",
   "metadata": {},
   "outputs": [],
   "source": [
    "name = \"Jay\""
   ]
  },
  {
   "cell_type": "code",
   "execution_count": 27,
   "id": "abbad852",
   "metadata": {},
   "outputs": [],
   "source": [
    "# name[0] = 'L'"
   ]
  },
  {
   "cell_type": "code",
   "execution_count": 29,
   "id": "67eb74a4",
   "metadata": {},
   "outputs": [],
   "source": [
    "last_letters = name[1:]"
   ]
  },
  {
   "cell_type": "code",
   "execution_count": 30,
   "id": "2868f01c",
   "metadata": {},
   "outputs": [
    {
     "data": {
      "text/plain": [
       "'ay'"
      ]
     },
     "execution_count": 30,
     "metadata": {},
     "output_type": "execute_result"
    }
   ],
   "source": [
    "last_letters"
   ]
  },
  {
   "cell_type": "code",
   "execution_count": 31,
   "id": "b9edfcaf",
   "metadata": {},
   "outputs": [
    {
     "data": {
      "text/plain": [
       "'Lay'"
      ]
     },
     "execution_count": 31,
     "metadata": {},
     "output_type": "execute_result"
    }
   ],
   "source": [
    "'L' + last_letters"
   ]
  },
  {
   "cell_type": "code",
   "execution_count": 32,
   "id": "e8842618",
   "metadata": {},
   "outputs": [],
   "source": [
    "x = 'Hello Planet'"
   ]
  },
  {
   "cell_type": "code",
   "execution_count": 37,
   "id": "190f6e8f",
   "metadata": {},
   "outputs": [],
   "source": [
    "x = x + \", it is wonderful outside!\""
   ]
  },
  {
   "cell_type": "code",
   "execution_count": 38,
   "id": "d613a249",
   "metadata": {},
   "outputs": [
    {
     "data": {
      "text/plain": [
       "'Hello Planet, it is wonderful outside!'"
      ]
     },
     "execution_count": 38,
     "metadata": {},
     "output_type": "execute_result"
    }
   ],
   "source": [
    "x"
   ]
  },
  {
   "cell_type": "code",
   "execution_count": 39,
   "id": "993cbddc",
   "metadata": {},
   "outputs": [],
   "source": [
    "letter = 'j'"
   ]
  },
  {
   "cell_type": "code",
   "execution_count": 40,
   "id": "4945ff0f",
   "metadata": {},
   "outputs": [
    {
     "data": {
      "text/plain": [
       "'jjjjjjjjjj'"
      ]
     },
     "execution_count": 40,
     "metadata": {},
     "output_type": "execute_result"
    }
   ],
   "source": [
    "letter * 10"
   ]
  },
  {
   "cell_type": "code",
   "execution_count": 41,
   "id": "f151c8df",
   "metadata": {},
   "outputs": [
    {
     "data": {
      "text/plain": [
       "'23'"
      ]
     },
     "execution_count": 41,
     "metadata": {},
     "output_type": "execute_result"
    }
   ],
   "source": [
    "'2' + '3'"
   ]
  },
  {
   "cell_type": "code",
   "execution_count": 45,
   "id": "b8d560f1",
   "metadata": {},
   "outputs": [],
   "source": [
    "x = 'Hello Planet'"
   ]
  },
  {
   "cell_type": "code",
   "execution_count": 48,
   "id": "907df392",
   "metadata": {},
   "outputs": [
    {
     "data": {
      "text/plain": [
       "<function str.upper()>"
      ]
     },
     "execution_count": 48,
     "metadata": {},
     "output_type": "execute_result"
    }
   ],
   "source": [
    "# x.upper"
   ]
  },
  {
   "cell_type": "code",
   "execution_count": 49,
   "id": "0cf3164b",
   "metadata": {},
   "outputs": [
    {
     "data": {
      "text/plain": [
       "['Hello', 'Planet']"
      ]
     },
     "execution_count": 49,
     "metadata": {},
     "output_type": "execute_result"
    }
   ],
   "source": [
    "x.split()"
   ]
  },
  {
   "cell_type": "code",
   "execution_count": 50,
   "id": "bda3efd8",
   "metadata": {},
   "outputs": [],
   "source": [
    "x = 'This language is p fun so far'"
   ]
  },
  {
   "cell_type": "code",
   "execution_count": 56,
   "id": "ff833a0b",
   "metadata": {},
   "outputs": [
    {
     "data": {
      "text/plain": [
       "['This l', 'ngu', 'ge is p fun so f', 'r']"
      ]
     },
     "execution_count": 56,
     "metadata": {},
     "output_type": "execute_result"
    }
   ],
   "source": [
    "x.split('a')"
   ]
  },
  {
   "cell_type": "markdown",
   "id": "a61800bf",
   "metadata": {},
   "source": [
    "Print Formatting with Strings\n",
    "\n",
    "ex) 'String here {} then also {}'.format('sth1', 'sth2')"
   ]
  },
  {
   "cell_type": "code",
   "execution_count": 57,
   "id": "7b634f3f",
   "metadata": {},
   "outputs": [
    {
     "name": "stdout",
     "output_type": "stream",
     "text": [
      "This is a string INSERTED\n"
     ]
    }
   ],
   "source": [
    "print('This is a string {}'.format('INSERTED'))"
   ]
  },
  {
   "cell_type": "code",
   "execution_count": 59,
   "id": "f3a56ae8",
   "metadata": {},
   "outputs": [
    {
     "name": "stdout",
     "output_type": "stream",
     "text": [
      "life loves Jay\n"
     ]
    }
   ],
   "source": [
    "print('{2} {1} {0}'.format('Jay', 'loves', 'life'))"
   ]
  },
  {
   "cell_type": "code",
   "execution_count": 64,
   "id": "db88862d",
   "metadata": {},
   "outputs": [
    {
     "name": "stdout",
     "output_type": "stream",
     "text": [
      "Jay Jay Jay\n"
     ]
    }
   ],
   "source": [
    "print('{j} {j} {j}'.format(j='Jay', l='loves', L='life'))"
   ]
  },
  {
   "cell_type": "code",
   "execution_count": 65,
   "id": "4d594324",
   "metadata": {},
   "outputs": [],
   "source": [
    "result = 100/777"
   ]
  },
  {
   "cell_type": "code",
   "execution_count": 72,
   "id": "26e3a7dc",
   "metadata": {},
   "outputs": [],
   "source": [
    "result = 1853291.189491827491872"
   ]
  },
  {
   "cell_type": "markdown",
   "id": "697c006c",
   "metadata": {},
   "source": [
    "Float formatting follows \"{value:width.precision ƒ}\""
   ]
  },
  {
   "cell_type": "code",
   "execution_count": 104,
   "id": "32661e79",
   "metadata": {},
   "outputs": [
    {
     "name": "stdout",
     "output_type": "stream",
     "text": [
      "The result was 1853291.19\n"
     ]
    }
   ],
   "source": [
    "print(\"The result was {r:1.2f}\".format(r=result))"
   ]
  },
  {
   "cell_type": "code",
   "execution_count": 110,
   "id": "ab5b2e35",
   "metadata": {},
   "outputs": [
    {
     "name": "stdout",
     "output_type": "stream",
     "text": [
      "He said his name is 'Fred'\n"
     ]
    }
   ],
   "source": [
    "name = 'Fred'\n",
    "print(f\"He said his name is {name!r}\") #!r  = string representation"
   ]
  },
  {
   "cell_type": "markdown",
   "id": "7310425f",
   "metadata": {},
   "source": [
    "Alignment, padding and precision with .format()"
   ]
  },
  {
   "cell_type": "code",
   "execution_count": 107,
   "id": "241bb14d",
   "metadata": {},
   "outputs": [
    {
     "name": "stdout",
     "output_type": "stream",
     "text": [
      "Fruit    | Quantity \n",
      "Bananas  |       3.0\n",
      "Oranges  |        10\n"
     ]
    }
   ],
   "source": [
    "print('{0:8} | {1:9}'.format('Fruit', 'Quantity'))\n",
    "print('{0:8} | {1:9}'.format('Bananas', 3.))\n",
    "print('{0:8} | {1:9}'.format('Oranges', 10))"
   ]
  },
  {
   "cell_type": "code",
   "execution_count": 109,
   "id": "1ca0ad95",
   "metadata": {},
   "outputs": [
    {
     "name": "stdout",
     "output_type": "stream",
     "text": [
      "Left==== | -Center- | ...Right\n",
      "11====== | ---22--- | ......33\n"
     ]
    }
   ],
   "source": [
    "print('{0:=<8} | {1:-^8} | {2:.>8}'.format('Left', 'Center', 'Right'))\n",
    "print('{0:=<8} | {1:-^8} | {2:.>8}'.format(11, 22, 33))"
   ]
  },
  {
   "cell_type": "code",
   "execution_count": null,
   "id": "c7f659db",
   "metadata": {},
   "outputs": [],
   "source": []
  },
  {
   "cell_type": "code",
   "execution_count": null,
   "id": "1605a9de",
   "metadata": {},
   "outputs": [],
   "source": []
  },
  {
   "cell_type": "code",
   "execution_count": null,
   "id": "73f0ca82",
   "metadata": {},
   "outputs": [],
   "source": []
  },
  {
   "cell_type": "code",
   "execution_count": null,
   "id": "1c23c9d5",
   "metadata": {},
   "outputs": [],
   "source": []
  },
  {
   "cell_type": "code",
   "execution_count": 78,
   "id": "84e7ea75",
   "metadata": {},
   "outputs": [],
   "source": [
    "name = \"Jay\""
   ]
  },
  {
   "cell_type": "code",
   "execution_count": 83,
   "id": "9fa42263",
   "metadata": {},
   "outputs": [],
   "source": [
    "age = 29"
   ]
  },
  {
   "cell_type": "code",
   "execution_count": 88,
   "id": "7b073cb3",
   "metadata": {},
   "outputs": [
    {
     "name": "stdout",
     "output_type": "stream",
     "text": [
      "Hello, here is Jay and I'm 29 years old.\n",
      "Hello, here is Jay and I'm 29 years old.\n"
     ]
    }
   ],
   "source": [
    "print(f\"Hello, here is {name} and I'm {age} years old.\")\n",
    "print(\"Hello, here is %s and I'm %s years old.\" %(name, age))"
   ]
  },
  {
   "cell_type": "code",
   "execution_count": 89,
   "id": "95e06a7d",
   "metadata": {},
   "outputs": [
    {
     "name": "stdout",
     "output_type": "stream",
     "text": [
      "He said my name was Jake.\n",
      "He said my name was 'Jake'.\n"
     ]
    }
   ],
   "source": [
    "print(\"He said my name was %s.\" %('Jake'))\n",
    "print(\"He said my name was %r.\" %('Jake'))"
   ]
  },
  {
   "cell_type": "code",
   "execution_count": 91,
   "id": "98acf77d",
   "metadata": {},
   "outputs": [
    {
     "name": "stdout",
     "output_type": "stream",
     "text": [
      "I have been in London for a \tyear.\n",
      "I have been in London for 'a \\tyear'.\n"
     ]
    }
   ],
   "source": [
    "print('I have been in London for %s.' %('a \\tyear'))\n",
    "print('I have been in London for %r.' %('a \\tyear'))"
   ]
  },
  {
   "cell_type": "code",
   "execution_count": 93,
   "id": "c0d412f0",
   "metadata": {},
   "outputs": [
    {
     "name": "stdout",
     "output_type": "stream",
     "text": [
      "My GPA is 3.88\n",
      "My GPA is 3\n"
     ]
    }
   ],
   "source": [
    "print('My GPA is %s' %(3.88))\n",
    "print('My GPA is %d' %(3.88))"
   ]
  },
  {
   "cell_type": "code",
   "execution_count": 102,
   "id": "34b050fd",
   "metadata": {},
   "outputs": [
    {
     "name": "stdout",
     "output_type": "stream",
     "text": [
      "Floating point numbers:                      16.123000\n"
     ]
    }
   ],
   "source": [
    "print('Floating point numbers: %30.6f' %(16.123))"
   ]
  },
  {
   "cell_type": "markdown",
   "id": "07f2241b",
   "metadata": {},
   "source": [
    "Multiple Formatting"
   ]
  },
  {
   "cell_type": "code",
   "execution_count": 103,
   "id": "91f559cf",
   "metadata": {},
   "outputs": [
    {
     "name": "stdout",
     "output_type": "stream",
     "text": [
      "First: Hello, Second:  3.14, Third: 'Bye!'\n"
     ]
    }
   ],
   "source": [
    "print('First: %s, Second: %5.2f, Third: %r' %(\"Hello\", 3.1415, 'Bye!'))"
   ]
  },
  {
   "cell_type": "code",
   "execution_count": 111,
   "id": "0a246f4b",
   "metadata": {},
   "outputs": [
    {
     "name": "stdout",
     "output_type": "stream",
     "text": [
      "My 10 character, four decimal number is:   12.3400\n",
      "My 10 character, four decimal number is:   12.3400\n"
     ]
    }
   ],
   "source": [
    "num = 12.34\n",
    "print(\"My 10 character, four decimal number is:{0:10.4f}\".format(num))\n",
    "print(f\"My 10 character, four decimal number is:{num:10.4f}\")"
   ]
  },
  {
   "cell_type": "code",
   "execution_count": null,
   "id": "6437c12b",
   "metadata": {},
   "outputs": [],
   "source": []
  }
 ],
 "metadata": {
  "kernelspec": {
   "display_name": "Python 3 (ipykernel)",
   "language": "python",
   "name": "python3"
  },
  "language_info": {
   "codemirror_mode": {
    "name": "ipython",
    "version": 3
   },
   "file_extension": ".py",
   "mimetype": "text/x-python",
   "name": "python",
   "nbconvert_exporter": "python",
   "pygments_lexer": "ipython3",
   "version": "3.10.9"
  }
 },
 "nbformat": 4,
 "nbformat_minor": 5
}

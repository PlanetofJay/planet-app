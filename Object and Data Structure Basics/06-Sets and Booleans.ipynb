{
 "cells": [
  {
   "cell_type": "markdown",
   "id": "b2697d51",
   "metadata": {},
   "source": [
    "<h2>Sets</h2>\n",
    "    \n",
    "- Sets are an unordered collection of <i>unique</i> elements. We can construct them by using the set()function."
   ]
  },
  {
   "cell_type": "code",
   "execution_count": 1,
   "id": "0a766eb9",
   "metadata": {},
   "outputs": [],
   "source": [
    "myset = set()"
   ]
  },
  {
   "cell_type": "code",
   "execution_count": 2,
   "id": "909a402f",
   "metadata": {},
   "outputs": [
    {
     "data": {
      "text/plain": [
       "set()"
      ]
     },
     "execution_count": 2,
     "metadata": {},
     "output_type": "execute_result"
    }
   ],
   "source": [
    "myset"
   ]
  },
  {
   "cell_type": "code",
   "execution_count": 13,
   "id": "e84443a0",
   "metadata": {},
   "outputs": [],
   "source": [
    "myset.add('Jay')"
   ]
  },
  {
   "cell_type": "code",
   "execution_count": 14,
   "id": "eac5b0f0",
   "metadata": {},
   "outputs": [
    {
     "data": {
      "text/plain": [
       "{1, '123', 2, 3, 'Jay'}"
      ]
     },
     "execution_count": 14,
     "metadata": {},
     "output_type": "execute_result"
    }
   ],
   "source": [
    "myset"
   ]
  },
  {
   "cell_type": "code",
   "execution_count": 15,
   "id": "de94aca0",
   "metadata": {},
   "outputs": [],
   "source": [
    "mylist = [1,1,1,1,2,2,2,2,3,3,3,3,4,6,9,1,2,]"
   ]
  },
  {
   "cell_type": "code",
   "execution_count": 16,
   "id": "6f3268df",
   "metadata": {},
   "outputs": [
    {
     "data": {
      "text/plain": [
       "{1, 2, 3, 4, 6, 9}"
      ]
     },
     "execution_count": 16,
     "metadata": {},
     "output_type": "execute_result"
    }
   ],
   "source": [
    "set(mylist)"
   ]
  },
  {
   "cell_type": "code",
   "execution_count": null,
   "id": "4dbb474c",
   "metadata": {},
   "outputs": [],
   "source": []
  },
  {
   "cell_type": "markdown",
   "id": "bd66a732",
   "metadata": {},
   "source": [
    "<h2>Booleans</h2>\n",
    "\n",
    "- Booleans(with predefined <b>True</b> and <b>False</b> displays that are basically just the integers 1 and 0). It also has a placeholder object called <b>None</b>.\n",
    "\n",
    "- Booleans are <i>very important</i> later on when we deal with control flow and logic."
   ]
  },
  {
   "cell_type": "code",
   "execution_count": 19,
   "id": "e209e32e",
   "metadata": {},
   "outputs": [
    {
     "data": {
      "text/plain": [
       "True"
      ]
     },
     "execution_count": 19,
     "metadata": {},
     "output_type": "execute_result"
    }
   ],
   "source": [
    "True # make sure that have capitalized T"
   ]
  },
  {
   "cell_type": "code",
   "execution_count": 21,
   "id": "775b7d91",
   "metadata": {},
   "outputs": [
    {
     "data": {
      "text/plain": [
       "False"
      ]
     },
     "execution_count": 21,
     "metadata": {},
     "output_type": "execute_result"
    }
   ],
   "source": [
    "False # make sure that have capitalized F"
   ]
  },
  {
   "cell_type": "code",
   "execution_count": 22,
   "id": "97f90cf2",
   "metadata": {},
   "outputs": [
    {
     "data": {
      "text/plain": [
       "bool"
      ]
     },
     "execution_count": 22,
     "metadata": {},
     "output_type": "execute_result"
    }
   ],
   "source": [
    "type(False)"
   ]
  },
  {
   "cell_type": "code",
   "execution_count": 23,
   "id": "0cacc15a",
   "metadata": {},
   "outputs": [
    {
     "data": {
      "text/plain": [
       "False"
      ]
     },
     "execution_count": 23,
     "metadata": {},
     "output_type": "execute_result"
    }
   ],
   "source": [
    "1 > 3"
   ]
  },
  {
   "cell_type": "code",
   "execution_count": 24,
   "id": "023d6ec1",
   "metadata": {},
   "outputs": [
    {
     "data": {
      "text/plain": [
       "True"
      ]
     },
     "execution_count": 24,
     "metadata": {},
     "output_type": "execute_result"
    }
   ],
   "source": [
    "1 == 1"
   ]
  },
  {
   "cell_type": "code",
   "execution_count": 27,
   "id": "e9a63bf1",
   "metadata": {},
   "outputs": [],
   "source": [
    "b = None"
   ]
  },
  {
   "cell_type": "code",
   "execution_count": 28,
   "id": "0feab84b",
   "metadata": {},
   "outputs": [],
   "source": [
    "b"
   ]
  }
 ],
 "metadata": {
  "kernelspec": {
   "display_name": "Python 3 (ipykernel)",
   "language": "python",
   "name": "python3"
  },
  "language_info": {
   "codemirror_mode": {
    "name": "ipython",
    "version": 3
   },
   "file_extension": ".py",
   "mimetype": "text/x-python",
   "name": "python",
   "nbconvert_exporter": "python",
   "pygments_lexer": "ipython3",
   "version": "3.10.9"
  }
 },
 "nbformat": 4,
 "nbformat_minor": 5
}

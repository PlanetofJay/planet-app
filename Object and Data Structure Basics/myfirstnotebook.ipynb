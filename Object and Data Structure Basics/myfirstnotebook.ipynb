{
 "cells": [
  {
   "cell_type": "code",
   "execution_count": 1,
   "id": "2911f34e",
   "metadata": {},
   "outputs": [
    {
     "name": "stdout",
     "output_type": "stream",
     "text": [
      "hello\n"
     ]
    }
   ],
   "source": [
    "print('hello')"
   ]
  },
  {
   "cell_type": "code",
   "execution_count": 2,
   "id": "4e323680",
   "metadata": {},
   "outputs": [
    {
     "name": "stdout",
     "output_type": "stream",
     "text": [
      "new\n"
     ]
    }
   ],
   "source": [
    "print('new')"
   ]
  },
  {
   "cell_type": "code",
   "execution_count": 3,
   "id": "a6e5cf87",
   "metadata": {
    "scrolled": true
   },
   "outputs": [
    {
     "name": "stdout",
     "output_type": "stream",
     "text": [
      "test\n"
     ]
    }
   ],
   "source": [
    "print('test')"
   ]
  },
  {
   "cell_type": "markdown",
   "id": "f4b0f659",
   "metadata": {},
   "source": [
    "here you can write notes"
   ]
  },
  {
   "cell_type": "code",
   "execution_count": 1,
   "id": "7ec4f18b",
   "metadata": {},
   "outputs": [
    {
     "data": {
      "text/plain": [
       "1.5"
      ]
     },
     "execution_count": 1,
     "metadata": {},
     "output_type": "execute_result"
    }
   ],
   "source": [
    "3/2"
   ]
  },
  {
   "cell_type": "markdown",
   "id": "82aa9499",
   "metadata": {},
   "source": [
    "<h2>Modulo or \"Mod\" Operator"
   ]
  },
  {
   "cell_type": "code",
   "execution_count": 2,
   "id": "16a1e3b0",
   "metadata": {},
   "outputs": [
    {
     "data": {
      "text/plain": [
       "1.75"
      ]
     },
     "execution_count": 2,
     "metadata": {},
     "output_type": "execute_result"
    }
   ],
   "source": [
    "7 / 4"
   ]
  },
  {
   "cell_type": "code",
   "execution_count": 3,
   "id": "71e44591",
   "metadata": {},
   "outputs": [
    {
     "data": {
      "text/plain": [
       "3"
      ]
     },
     "execution_count": 3,
     "metadata": {},
     "output_type": "execute_result"
    }
   ],
   "source": [
    "7 % 4"
   ]
  },
  {
   "cell_type": "code",
   "execution_count": 4,
   "id": "d27430a6",
   "metadata": {},
   "outputs": [
    {
     "data": {
      "text/plain": [
       "0"
      ]
     },
     "execution_count": 4,
     "metadata": {},
     "output_type": "execute_result"
    }
   ],
   "source": [
    "50 % 5"
   ]
  },
  {
   "cell_type": "code",
   "execution_count": 5,
   "id": "423ab55f",
   "metadata": {},
   "outputs": [
    {
     "data": {
      "text/plain": [
       "8"
      ]
     },
     "execution_count": 5,
     "metadata": {},
     "output_type": "execute_result"
    }
   ],
   "source": [
    "2 ** 3"
   ]
  },
  {
   "cell_type": "code",
   "execution_count": 6,
   "id": "a30047b1",
   "metadata": {},
   "outputs": [
    {
     "data": {
      "text/plain": [
       "156"
      ]
     },
     "execution_count": 6,
     "metadata": {},
     "output_type": "execute_result"
    }
   ],
   "source": [
    "(2 + 10) * (10 + 3)"
   ]
  },
  {
   "cell_type": "markdown",
   "id": "25878b31",
   "metadata": {},
   "source": [
    "<h2>Variable Assignments"
   ]
  },
  {
   "cell_type": "code",
   "execution_count": 7,
   "id": "ff4d9ed3",
   "metadata": {},
   "outputs": [],
   "source": [
    "a = 5"
   ]
  },
  {
   "cell_type": "code",
   "execution_count": 8,
   "id": "72595b32",
   "metadata": {},
   "outputs": [
    {
     "data": {
      "text/plain": [
       "5"
      ]
     },
     "execution_count": 8,
     "metadata": {},
     "output_type": "execute_result"
    }
   ],
   "source": [
    "a"
   ]
  },
  {
   "cell_type": "code",
   "execution_count": 9,
   "id": "e75a5d3b",
   "metadata": {},
   "outputs": [],
   "source": [
    "a = 12"
   ]
  },
  {
   "cell_type": "code",
   "execution_count": 10,
   "id": "2a65f805",
   "metadata": {},
   "outputs": [
    {
     "data": {
      "text/plain": [
       "12"
      ]
     },
     "execution_count": 10,
     "metadata": {},
     "output_type": "execute_result"
    }
   ],
   "source": [
    "a"
   ]
  },
  {
   "cell_type": "code",
   "execution_count": 11,
   "id": "d7251c77",
   "metadata": {},
   "outputs": [
    {
     "data": {
      "text/plain": [
       "24"
      ]
     },
     "execution_count": 11,
     "metadata": {},
     "output_type": "execute_result"
    }
   ],
   "source": [
    "a + a"
   ]
  },
  {
   "cell_type": "code",
   "execution_count": 23,
   "id": "c1c4a979",
   "metadata": {},
   "outputs": [],
   "source": [
    "a = a + a"
   ]
  },
  {
   "cell_type": "code",
   "execution_count": 24,
   "id": "5a7696eb",
   "metadata": {},
   "outputs": [
    {
     "data": {
      "text/plain": [
       "768"
      ]
     },
     "execution_count": 24,
     "metadata": {},
     "output_type": "execute_result"
    }
   ],
   "source": [
    "a"
   ]
  },
  {
   "cell_type": "code",
   "execution_count": 25,
   "id": "c9fb3649",
   "metadata": {},
   "outputs": [
    {
     "data": {
      "text/plain": [
       "int"
      ]
     },
     "execution_count": 25,
     "metadata": {},
     "output_type": "execute_result"
    }
   ],
   "source": [
    "type(a)"
   ]
  },
  {
   "cell_type": "code",
   "execution_count": 26,
   "id": "7bdb6882",
   "metadata": {},
   "outputs": [],
   "source": [
    "a = 30.1"
   ]
  },
  {
   "cell_type": "code",
   "execution_count": 27,
   "id": "ed199de3",
   "metadata": {},
   "outputs": [
    {
     "data": {
      "text/plain": [
       "float"
      ]
     },
     "execution_count": 27,
     "metadata": {},
     "output_type": "execute_result"
    }
   ],
   "source": [
    "type(a)"
   ]
  },
  {
   "cell_type": "code",
   "execution_count": 28,
   "id": "355ec3d2",
   "metadata": {},
   "outputs": [],
   "source": [
    "my_income = 100\n",
    "\n",
    "tax_rate = 0.1\n",
    "\n",
    "my_taxes = my_income * tax_rate"
   ]
  },
  {
   "cell_type": "code",
   "execution_count": 29,
   "id": "2dc3226f",
   "metadata": {},
   "outputs": [
    {
     "data": {
      "text/plain": [
       "10.0"
      ]
     },
     "execution_count": 29,
     "metadata": {},
     "output_type": "execute_result"
    }
   ],
   "source": [
    "my_taxes"
   ]
  },
  {
   "cell_type": "markdown",
   "id": "71486f52",
   "metadata": {},
   "source": [
    "<h2>Test Strings"
   ]
  },
  {
   "cell_type": "code",
   "execution_count": 30,
   "id": "3fb31d86",
   "metadata": {},
   "outputs": [
    {
     "data": {
      "text/plain": [
       "'hello'"
      ]
     },
     "execution_count": 30,
     "metadata": {},
     "output_type": "execute_result"
    }
   ],
   "source": [
    "'hello'"
   ]
  },
  {
   "cell_type": "code",
   "execution_count": 31,
   "id": "226c2f5d",
   "metadata": {},
   "outputs": [
    {
     "data": {
      "text/plain": [
       "'world'"
      ]
     },
     "execution_count": 31,
     "metadata": {},
     "output_type": "execute_result"
    }
   ],
   "source": [
    "\"world\""
   ]
  },
  {
   "cell_type": "code",
   "execution_count": 32,
   "id": "ec423ed4",
   "metadata": {},
   "outputs": [
    {
     "data": {
      "text/plain": [
       "\"We're in the planet\""
      ]
     },
     "execution_count": 32,
     "metadata": {},
     "output_type": "execute_result"
    }
   ],
   "source": [
    "\"We're in the planet\""
   ]
  },
  {
   "cell_type": "code",
   "execution_count": 33,
   "id": "8de1288b",
   "metadata": {},
   "outputs": [
    {
     "name": "stdout",
     "output_type": "stream",
     "text": [
      "hello\n"
     ]
    }
   ],
   "source": [
    "print(\"hello\")"
   ]
  },
  {
   "cell_type": "code",
   "execution_count": 35,
   "id": "614442b5",
   "metadata": {},
   "outputs": [
    {
     "name": "stdout",
     "output_type": "stream",
     "text": [
      "hello \tworld\n"
     ]
    }
   ],
   "source": [
    "print('hello \\tworld')"
   ]
  },
  {
   "cell_type": "code",
   "execution_count": 37,
   "id": "dca4a663",
   "metadata": {},
   "outputs": [
    {
     "data": {
      "text/plain": [
       "19"
      ]
     },
     "execution_count": 37,
     "metadata": {},
     "output_type": "execute_result"
    }
   ],
   "source": [
    "len('Here is Jaejin Lee.')"
   ]
  },
  {
   "cell_type": "code",
   "execution_count": null,
   "id": "175be0be",
   "metadata": {},
   "outputs": [],
   "source": []
  },
  {
   "cell_type": "code",
   "execution_count": null,
   "id": "c14ac0f6",
   "metadata": {},
   "outputs": [],
   "source": []
  },
  {
   "cell_type": "code",
   "execution_count": null,
   "id": "a754184b",
   "metadata": {},
   "outputs": [],
   "source": []
  },
  {
   "cell_type": "code",
   "execution_count": null,
   "id": "596a3a4f",
   "metadata": {},
   "outputs": [],
   "source": []
  },
  {
   "cell_type": "code",
   "execution_count": null,
   "id": "945dc50c",
   "metadata": {},
   "outputs": [],
   "source": []
  },
  {
   "cell_type": "code",
   "execution_count": null,
   "id": "cbaa28f1",
   "metadata": {},
   "outputs": [],
   "source": []
  },
  {
   "cell_type": "code",
   "execution_count": 1,
   "id": "51369803",
   "metadata": {},
   "outputs": [],
   "source": [
    "planet = ['Jay', 100, 29.03]"
   ]
  },
  {
   "cell_type": "code",
   "execution_count": 4,
   "id": "5a6883d7",
   "metadata": {},
   "outputs": [
    {
     "data": {
      "text/plain": [
       "100"
      ]
     },
     "execution_count": 4,
     "metadata": {},
     "output_type": "execute_result"
    }
   ],
   "source": [
    "planet[1]"
   ]
  },
  {
   "cell_type": "code",
   "execution_count": 11,
   "id": "ad037261",
   "metadata": {},
   "outputs": [],
   "source": [
    "planet[1] = [100, 123]"
   ]
  },
  {
   "cell_type": "code",
   "execution_count": 12,
   "id": "3dfff879",
   "metadata": {},
   "outputs": [
    {
     "data": {
      "text/plain": [
       "['Jay', [100, 123], 29.03]"
      ]
     },
     "execution_count": 12,
     "metadata": {},
     "output_type": "execute_result"
    }
   ],
   "source": [
    "planet"
   ]
  },
  {
   "cell_type": "code",
   "execution_count": 13,
   "id": "eab2daf0",
   "metadata": {},
   "outputs": [
    {
     "data": {
      "text/plain": [
       "29.03"
      ]
     },
     "execution_count": 13,
     "metadata": {},
     "output_type": "execute_result"
    }
   ],
   "source": [
    "planet.pop()"
   ]
  },
  {
   "cell_type": "code",
   "execution_count": 14,
   "id": "98d2797c",
   "metadata": {},
   "outputs": [
    {
     "data": {
      "text/plain": [
       "['Jay', [100, 123]]"
      ]
     },
     "execution_count": 14,
     "metadata": {},
     "output_type": "execute_result"
    }
   ],
   "source": [
    "planet"
   ]
  },
  {
   "cell_type": "code",
   "execution_count": null,
   "id": "56599d9e",
   "metadata": {},
   "outputs": [],
   "source": []
  },
  {
   "cell_type": "code",
   "execution_count": null,
   "id": "8e1744d6",
   "metadata": {},
   "outputs": [],
   "source": []
  },
  {
   "cell_type": "code",
   "execution_count": null,
   "id": "6004cdb7",
   "metadata": {},
   "outputs": [],
   "source": []
  },
  {
   "cell_type": "code",
   "execution_count": null,
   "id": "69db09c6",
   "metadata": {},
   "outputs": [],
   "source": []
  },
  {
   "cell_type": "markdown",
   "id": "b1bdc9a9",
   "metadata": {},
   "source": [
    "<h2>Journal</h2>"
   ]
  },
  {
   "cell_type": "code",
   "execution_count": 22,
   "id": "f298ed3b",
   "metadata": {},
   "outputs": [],
   "source": [
    "planet[1][0:].append('Jay')"
   ]
  },
  {
   "cell_type": "code",
   "execution_count": 85,
   "id": "88a50661",
   "metadata": {},
   "outputs": [],
   "source": [
    "planet.append('12315236')"
   ]
  },
  {
   "cell_type": "code",
   "execution_count": 25,
   "id": "ec046c49",
   "metadata": {},
   "outputs": [
    {
     "data": {
      "text/plain": [
       "['Jay', [100, 123], '12315236']"
      ]
     },
     "execution_count": 25,
     "metadata": {},
     "output_type": "execute_result"
    }
   ],
   "source": [
    "planet"
   ]
  },
  {
   "cell_type": "code",
   "execution_count": 26,
   "id": "1e4796ce",
   "metadata": {},
   "outputs": [
    {
     "data": {
      "text/plain": [
       "[100, 123]"
      ]
     },
     "execution_count": 26,
     "metadata": {},
     "output_type": "execute_result"
    }
   ],
   "source": [
    "planet[1][0:]"
   ]
  },
  {
   "cell_type": "code",
   "execution_count": 91,
   "id": "eb73be9e",
   "metadata": {},
   "outputs": [
    {
     "data": {
      "text/plain": [
       "['C', 'N']"
      ]
     },
     "execution_count": 91,
     "metadata": {},
     "output_type": "execute_result"
    }
   ],
   "source": [
    "planet[3][16:19:1][::1].upper().split('A')"
   ]
  },
  {
   "cell_type": "code",
   "execution_count": 93,
   "id": "929f70d4",
   "metadata": {},
   "outputs": [],
   "source": [
    "planet = \"JAY\""
   ]
  },
  {
   "cell_type": "code",
   "execution_count": 103,
   "id": "459cd246",
   "metadata": {},
   "outputs": [
    {
     "name": "stdout",
     "output_type": "stream",
     "text": [
      "Who are you? JAY.\n",
      "Say it again? 'JAY'.\n",
      "How's your tall? 178.58.\n",
      "What's the decimal tho? 178, shame on you.\n",
      "Pardon?                                   178.58, bye~~\n"
     ]
    }
   ],
   "source": [
    "print('Who are you? %s.' %(planet))\n",
    "print('Say it again? %r.' %(planet))\n",
    "print(\"How's your tall? %s.\" %(178.58))\n",
    "print(\"What's the decimal tho? %d, shame on you.\" %(178.58))\n",
    "print(\"Pardon? %40.2f, bye~~\" %(178.58))"
   ]
  },
  {
   "cell_type": "code",
   "execution_count": 59,
   "id": "b47c73d2",
   "metadata": {},
   "outputs": [],
   "source": [
    "planet[3] = planet[3] + \", I can't go to sleep\""
   ]
  },
  {
   "cell_type": "code",
   "execution_count": 60,
   "id": "9c765146",
   "metadata": {},
   "outputs": [
    {
     "data": {
      "text/plain": [
       "['Jay', [100, 123], '12315236', \"Hello Planet, I can't go to sleep\"]"
      ]
     },
     "execution_count": 60,
     "metadata": {},
     "output_type": "execute_result"
    }
   ],
   "source": [
    "planet"
   ]
  },
  {
   "cell_type": "code",
   "execution_count": 61,
   "id": "28efa45f",
   "metadata": {},
   "outputs": [],
   "source": [
    "case = 'j'"
   ]
  },
  {
   "cell_type": "code",
   "execution_count": 62,
   "id": "e55138d3",
   "metadata": {},
   "outputs": [
    {
     "data": {
      "text/plain": [
       "'jjjjjj'"
      ]
     },
     "execution_count": 62,
     "metadata": {},
     "output_type": "execute_result"
    }
   ],
   "source": [
    "case * 6"
   ]
  },
  {
   "cell_type": "code",
   "execution_count": 11,
   "id": "b1122898",
   "metadata": {},
   "outputs": [],
   "source": [
    "jay_dict={'Jay':123, 123:2324, 12.45:'value'}"
   ]
  },
  {
   "cell_type": "code",
   "execution_count": 16,
   "id": "14832836",
   "metadata": {},
   "outputs": [],
   "source": [
    "jay_dict['Jay'] = 'Jaejin'"
   ]
  },
  {
   "cell_type": "code",
   "execution_count": 31,
   "id": "ec7aae30",
   "metadata": {},
   "outputs": [],
   "source": [
    "jay_dict[12.45] = {'insideKey':123}"
   ]
  },
  {
   "cell_type": "code",
   "execution_count": 32,
   "id": "656e0d76",
   "metadata": {},
   "outputs": [
    {
     "data": {
      "text/plain": [
       "{'Jay': 'Jaejin', 123: {123, 456, 789}, 12.45: {'insideKey': 123}}"
      ]
     },
     "execution_count": 32,
     "metadata": {},
     "output_type": "execute_result"
    }
   ],
   "source": [
    "jay_dict"
   ]
  },
  {
   "cell_type": "code",
   "execution_count": 37,
   "id": "cec2759f",
   "metadata": {},
   "outputs": [
    {
     "data": {
      "text/plain": [
       "123"
      ]
     },
     "execution_count": 37,
     "metadata": {},
     "output_type": "execute_result"
    }
   ],
   "source": [
    "jay_dict[12.45]['insideKey']"
   ]
  },
  {
   "cell_type": "code",
   "execution_count": 40,
   "id": "8fc9875c",
   "metadata": {},
   "outputs": [
    {
     "data": {
      "text/plain": [
       "dict_items([('Jay', 'Jaejin'), (123, {456, 123, 789}), (12.45, {'insideKey': 123})])"
      ]
     },
     "execution_count": 40,
     "metadata": {},
     "output_type": "execute_result"
    }
   ],
   "source": [
    "jay_dict.items()"
   ]
  },
  {
   "cell_type": "code",
   "execution_count": null,
   "id": "94b952d1",
   "metadata": {},
   "outputs": [],
   "source": []
  }
 ],
 "metadata": {
  "kernelspec": {
   "display_name": "Python 3 (ipykernel)",
   "language": "python",
   "name": "python3"
  },
  "language_info": {
   "codemirror_mode": {
    "name": "ipython",
    "version": 3
   },
   "file_extension": ".py",
   "mimetype": "text/x-python",
   "name": "python",
   "nbconvert_exporter": "python",
   "pygments_lexer": "ipython3",
   "version": "3.10.9"
  }
 },
 "nbformat": 4,
 "nbformat_minor": 5
}
